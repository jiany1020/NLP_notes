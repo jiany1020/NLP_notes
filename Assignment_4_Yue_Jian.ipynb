{
 "cells": [
  {
   "cell_type": "code",
   "execution_count": 48,
   "id": "64c98406",
   "metadata": {},
   "outputs": [],
   "source": [
    "import pandas as pd\n",
    "import requests\n",
    "import re\n",
    "from collections import Counter\n",
    "import matplotlib.pyplot as plt\n",
    "import numpy as np"
   ]
  },
  {
   "cell_type": "code",
   "execution_count": 3,
   "id": "153ca7a4",
   "metadata": {},
   "outputs": [
    {
     "name": "stdout",
     "output_type": "stream",
     "text": [
      "Total number of records available: 266,925\n",
      "CPU times: total: 31.2 ms\n",
      "Wall time: 242 ms\n"
     ]
    }
   ],
   "source": [
    "%%time\n",
    "\n",
    "# Define the API endpoint and parameters\n",
    "url = \"https://data.cityofchicago.org/resource/cwig-ma7x.json\"\n",
    "\n",
    "# Fetch the total count of records\n",
    "def get_total_count(url):\n",
    "    params = {\n",
    "        \"$select\": \"count(*)\"\n",
    "    }\n",
    "    response = requests.get(url, params=params)\n",
    "    data = response.json()\n",
    "    return int(data[0]['count'])\n",
    "\n",
    "total_count = get_total_count(url)\n",
    "print(f\"Total number of records available: {total_count:,.0f}\")"
   ]
  },
  {
   "cell_type": "code",
   "execution_count": 4,
   "id": "69884ef1",
   "metadata": {},
   "outputs": [
    {
     "name": "stdout",
     "output_type": "stream",
     "text": [
      "Number of records retrieved: 266,925\n",
      "CPU times: total: 6.39 s\n",
      "Wall time: 33.2 s\n"
     ]
    }
   ],
   "source": [
    "%%time\n",
    "\n",
    "# Fetch data and load it into a pandas DataFrame\n",
    "def fetch_data(url, params):\n",
    "    response = requests.get(url, params=params)\n",
    "    data = response.json()\n",
    "    return pd.DataFrame(data)\n",
    "\n",
    "# Set the limit parameter equal to the number of available records\n",
    "params = {\n",
    "    \"$limit\": total_count\n",
    "}\n",
    "\n",
    "# Fetch the data and load it into a DataFrame\n",
    "df = fetch_data(url, params)\n",
    "\n",
    "print(f'Number of records retrieved: {df.shape[0]:,.0f}')"
   ]
  },
  {
   "cell_type": "code",
   "execution_count": 5,
   "id": "2104c5ed",
   "metadata": {},
   "outputs": [
    {
     "data": {
      "text/html": [
       "<div>\n",
       "<style scoped>\n",
       "    .dataframe tbody tr th:only-of-type {\n",
       "        vertical-align: middle;\n",
       "    }\n",
       "\n",
       "    .dataframe tbody tr th {\n",
       "        vertical-align: top;\n",
       "    }\n",
       "\n",
       "    .dataframe thead th {\n",
       "        text-align: right;\n",
       "    }\n",
       "</style>\n",
       "<table border=\"1\" class=\"dataframe\">\n",
       "  <thead>\n",
       "    <tr style=\"text-align: right;\">\n",
       "      <th></th>\n",
       "      <th>inspection_id</th>\n",
       "      <th>dba_name</th>\n",
       "      <th>aka_name</th>\n",
       "      <th>license_</th>\n",
       "      <th>facility_type</th>\n",
       "      <th>risk</th>\n",
       "      <th>address</th>\n",
       "      <th>city</th>\n",
       "      <th>state</th>\n",
       "      <th>zip</th>\n",
       "      <th>...</th>\n",
       "      <th>results</th>\n",
       "      <th>violations</th>\n",
       "      <th>latitude</th>\n",
       "      <th>longitude</th>\n",
       "      <th>location</th>\n",
       "      <th>:@computed_region_awaf_s7ux</th>\n",
       "      <th>:@computed_region_6mkv_f3dw</th>\n",
       "      <th>:@computed_region_vrxf_vc4k</th>\n",
       "      <th>:@computed_region_bdys_3d7i</th>\n",
       "      <th>:@computed_region_43wa_7qmu</th>\n",
       "    </tr>\n",
       "  </thead>\n",
       "  <tbody>\n",
       "    <tr>\n",
       "      <th>0</th>\n",
       "      <td>2588644</td>\n",
       "      <td>Evers</td>\n",
       "      <td>Evers</td>\n",
       "      <td>26591</td>\n",
       "      <td>School</td>\n",
       "      <td>Risk 1 (High)</td>\n",
       "      <td>9811 S Lowe (632W)</td>\n",
       "      <td>CHICAGO</td>\n",
       "      <td>IL</td>\n",
       "      <td>60628</td>\n",
       "      <td>...</td>\n",
       "      <td>Pass w/ Conditions</td>\n",
       "      <td>2. CITY OF CHICAGO FOOD SERVICE SANITATION CER...</td>\n",
       "      <td>41.71566429995683</td>\n",
       "      <td>-87.63926880772567</td>\n",
       "      <td>{'type': 'Point', 'coordinates': [-87.63926880...</td>\n",
       "      <td>18</td>\n",
       "      <td>21861</td>\n",
       "      <td>72</td>\n",
       "      <td>593</td>\n",
       "      <td>22</td>\n",
       "    </tr>\n",
       "    <tr>\n",
       "      <th>1</th>\n",
       "      <td>2588643</td>\n",
       "      <td>THOMAS COFFEE SHOP</td>\n",
       "      <td>THOMAS COFFEE SHOP</td>\n",
       "      <td>7545</td>\n",
       "      <td>Restaurant</td>\n",
       "      <td>Risk 1 (High)</td>\n",
       "      <td>1657 E 87TH ST</td>\n",
       "      <td>CHICAGO</td>\n",
       "      <td>IL</td>\n",
       "      <td>60617</td>\n",
       "      <td>...</td>\n",
       "      <td>Fail</td>\n",
       "      <td>35. APPROVED THAWING METHODS USED - Comments: ...</td>\n",
       "      <td>41.73684226984659</td>\n",
       "      <td>-87.5829466262428</td>\n",
       "      <td>{'type': 'Point', 'coordinates': [-87.58294662...</td>\n",
       "      <td>9</td>\n",
       "      <td>21202</td>\n",
       "      <td>44</td>\n",
       "      <td>473</td>\n",
       "      <td>35</td>\n",
       "    </tr>\n",
       "    <tr>\n",
       "      <th>2</th>\n",
       "      <td>2588651</td>\n",
       "      <td>HUDSON NONSTOP</td>\n",
       "      <td>HUDSON (T3/K1)</td>\n",
       "      <td>2951445</td>\n",
       "      <td>Grocery Store</td>\n",
       "      <td>Risk 3 (Low)</td>\n",
       "      <td>10000 W OHARE ST</td>\n",
       "      <td>CHICAGO</td>\n",
       "      <td>IL</td>\n",
       "      <td>60666</td>\n",
       "      <td>...</td>\n",
       "      <td>Pass</td>\n",
       "      <td>NaN</td>\n",
       "      <td>41.97620113902387</td>\n",
       "      <td>-87.90530912510346</td>\n",
       "      <td>{'type': 'Point', 'coordinates': [-87.90530912...</td>\n",
       "      <td>34</td>\n",
       "      <td>16197</td>\n",
       "      <td>75</td>\n",
       "      <td>668</td>\n",
       "      <td>29</td>\n",
       "    </tr>\n",
       "    <tr>\n",
       "      <th>3</th>\n",
       "      <td>2588636</td>\n",
       "      <td>BETHEL NEW LIFE, INC.</td>\n",
       "      <td>BETHEL NEW LIFE, INC.</td>\n",
       "      <td>2204679</td>\n",
       "      <td>Long Term Care</td>\n",
       "      <td>Risk 1 (High)</td>\n",
       "      <td>4950 W THOMAS ST</td>\n",
       "      <td>CHICAGO</td>\n",
       "      <td>IL</td>\n",
       "      <td>60651</td>\n",
       "      <td>...</td>\n",
       "      <td>No Entry</td>\n",
       "      <td>NaN</td>\n",
       "      <td>41.90058121225709</td>\n",
       "      <td>-87.75040561250974</td>\n",
       "      <td>{'type': 'Point', 'coordinates': [-87.75040561...</td>\n",
       "      <td>4</td>\n",
       "      <td>4299</td>\n",
       "      <td>26</td>\n",
       "      <td>585</td>\n",
       "      <td>45</td>\n",
       "    </tr>\n",
       "    <tr>\n",
       "      <th>4</th>\n",
       "      <td>2588686</td>\n",
       "      <td>NY FISH AND CHICKEN</td>\n",
       "      <td>NY FISH AND CHICKEN</td>\n",
       "      <td>2695084</td>\n",
       "      <td>Restaurant</td>\n",
       "      <td>Risk 1 (High)</td>\n",
       "      <td>2748-50 W MADISON ST</td>\n",
       "      <td>CHICAGO</td>\n",
       "      <td>IL</td>\n",
       "      <td>60612</td>\n",
       "      <td>...</td>\n",
       "      <td>Pass</td>\n",
       "      <td>NaN</td>\n",
       "      <td>41.88119123980771</td>\n",
       "      <td>-87.69580604798641</td>\n",
       "      <td>{'type': 'Point', 'coordinates': [-87.69580604...</td>\n",
       "      <td>48</td>\n",
       "      <td>21184</td>\n",
       "      <td>28</td>\n",
       "      <td>38</td>\n",
       "      <td>46</td>\n",
       "    </tr>\n",
       "  </tbody>\n",
       "</table>\n",
       "<p>5 rows × 22 columns</p>\n",
       "</div>"
      ],
      "text/plain": [
       "  inspection_id               dba_name               aka_name license_  \\\n",
       "0       2588644                  Evers                  Evers    26591   \n",
       "1       2588643     THOMAS COFFEE SHOP     THOMAS COFFEE SHOP     7545   \n",
       "2       2588651         HUDSON NONSTOP         HUDSON (T3/K1)  2951445   \n",
       "3       2588636  BETHEL NEW LIFE, INC.  BETHEL NEW LIFE, INC.  2204679   \n",
       "4       2588686    NY FISH AND CHICKEN    NY FISH AND CHICKEN  2695084   \n",
       "\n",
       "    facility_type           risk                address     city state    zip  \\\n",
       "0          School  Risk 1 (High)    9811 S Lowe (632W)   CHICAGO    IL  60628   \n",
       "1      Restaurant  Risk 1 (High)        1657 E 87TH ST   CHICAGO    IL  60617   \n",
       "2   Grocery Store   Risk 3 (Low)      10000 W OHARE ST   CHICAGO    IL  60666   \n",
       "3  Long Term Care  Risk 1 (High)      4950 W THOMAS ST   CHICAGO    IL  60651   \n",
       "4      Restaurant  Risk 1 (High)  2748-50 W MADISON ST   CHICAGO    IL  60612   \n",
       "\n",
       "   ...             results                                         violations  \\\n",
       "0  ...  Pass w/ Conditions  2. CITY OF CHICAGO FOOD SERVICE SANITATION CER...   \n",
       "1  ...                Fail  35. APPROVED THAWING METHODS USED - Comments: ...   \n",
       "2  ...                Pass                                                NaN   \n",
       "3  ...            No Entry                                                NaN   \n",
       "4  ...                Pass                                                NaN   \n",
       "\n",
       "            latitude           longitude  \\\n",
       "0  41.71566429995683  -87.63926880772567   \n",
       "1  41.73684226984659   -87.5829466262428   \n",
       "2  41.97620113902387  -87.90530912510346   \n",
       "3  41.90058121225709  -87.75040561250974   \n",
       "4  41.88119123980771  -87.69580604798641   \n",
       "\n",
       "                                            location  \\\n",
       "0  {'type': 'Point', 'coordinates': [-87.63926880...   \n",
       "1  {'type': 'Point', 'coordinates': [-87.58294662...   \n",
       "2  {'type': 'Point', 'coordinates': [-87.90530912...   \n",
       "3  {'type': 'Point', 'coordinates': [-87.75040561...   \n",
       "4  {'type': 'Point', 'coordinates': [-87.69580604...   \n",
       "\n",
       "  :@computed_region_awaf_s7ux :@computed_region_6mkv_f3dw  \\\n",
       "0                          18                       21861   \n",
       "1                           9                       21202   \n",
       "2                          34                       16197   \n",
       "3                           4                        4299   \n",
       "4                          48                       21184   \n",
       "\n",
       "  :@computed_region_vrxf_vc4k :@computed_region_bdys_3d7i  \\\n",
       "0                          72                         593   \n",
       "1                          44                         473   \n",
       "2                          75                         668   \n",
       "3                          26                         585   \n",
       "4                          28                          38   \n",
       "\n",
       "  :@computed_region_43wa_7qmu  \n",
       "0                          22  \n",
       "1                          35  \n",
       "2                          29  \n",
       "3                          45  \n",
       "4                          46  \n",
       "\n",
       "[5 rows x 22 columns]"
      ]
     },
     "execution_count": 5,
     "metadata": {},
     "output_type": "execute_result"
    }
   ],
   "source": [
    "df.head(5)"
   ]
  },
  {
   "cell_type": "markdown",
   "id": "8d27e017",
   "metadata": {},
   "source": [
    "## Preprocessing"
   ]
  },
  {
   "cell_type": "code",
   "execution_count": 6,
   "id": "69ef33b8",
   "metadata": {},
   "outputs": [],
   "source": [
    "clean_data = df.copy()\n",
    "clean_data.dropna(subset = ['violations'], inplace=True)\n",
    "def desc(x):\n",
    "    pattern = r\"\\d+\\. (.*?)(?: - Comments:|$)\"\n",
    "    parts = re.split(r'\\|', x)\n",
    "    res = []\n",
    "    for part in parts:\n",
    "        res = res + re.findall(pattern,part)\n",
    "    return res\n",
    "\n",
    "def comments(x):\n",
    "    parts = re.split(r'\\|',x)\n",
    "    pattern = r'- Comments: (.*)'\n",
    "    res = []\n",
    "    for part in parts:\n",
    "        res = res + re.findall(pattern,part)\n",
    "    return res\n",
    "\n",
    "clean_data[\"comments\"] = clean_data.loc[:,\"violations\"].map(comments)"
   ]
  },
  {
   "cell_type": "code",
   "execution_count": 7,
   "id": "46a966bf",
   "metadata": {},
   "outputs": [
    {
     "name": "stderr",
     "output_type": "stream",
     "text": [
      "[nltk_data] Downloading package punkt to\n",
      "[nltk_data]     C:\\Users\\10124\\AppData\\Roaming\\nltk_data...\n",
      "[nltk_data]   Package punkt is already up-to-date!\n"
     ]
    }
   ],
   "source": [
    "import nltk\n",
    "import nltk.corpus  \n",
    "from nltk.text import Text\n",
    "\n",
    "# Ensure NLTK resources are downloaded (e.g., tokenizers, corpora)\n",
    "nltk.download('punkt')\n",
    "\n",
    "clean_data[\"comments_tokenized\"] = clean_data[\"comments\"].map(lambda x:[nltk.tokenize.word_tokenize(i) for i in x])\n",
    "\n"
   ]
  },
  {
   "cell_type": "code",
   "execution_count": 9,
   "id": "4a72bb2f",
   "metadata": {},
   "outputs": [
    {
     "name": "stderr",
     "output_type": "stream",
     "text": [
      "[nltk_data] Downloading package stopwords to\n",
      "[nltk_data]     C:\\Users\\10124\\AppData\\Roaming\\nltk_data...\n",
      "[nltk_data]   Package stopwords is already up-to-date!\n"
     ]
    }
   ],
   "source": [
    "nltk.download('stopwords')\n",
    "from nltk.corpus import stopwords\n",
    "\n",
    "def clean_tokens(tokens_list):\n",
    "    cleaned_tokens_list = []\n",
    "    # Assuming tokens_list is a list of lists\n",
    "    for tokens in tokens_list:\n",
    "        # Convert to lower case\n",
    "        tokens = [token.lower() for token in tokens]\n",
    "        # Remove stopwords\n",
    "        stop_words = set(stopwords.words('english'))\n",
    "        tokens = [token for token in tokens if token not in stop_words]\n",
    "        # Remove punctuation & numbers (keep only alphabetic tokens)\n",
    "        tokens = [token for token in tokens if token.isalpha()]\n",
    "        cleaned_tokens_list.append(tokens)\n",
    "    return cleaned_tokens_list\n",
    "\n",
    "# Assuming clean_data['comments_tokenized'] is a list of lists\n",
    "clean_data['comments_tokenized_clean'] = clean_data['comments_tokenized'].apply(lambda x: clean_tokens(x) if isinstance(x, list) and all(isinstance(lst, list) for lst in x) else [])\n"
   ]
  },
  {
   "cell_type": "code",
   "execution_count": 10,
   "id": "50df33c1",
   "metadata": {},
   "outputs": [
    {
     "name": "stderr",
     "output_type": "stream",
     "text": [
      "[nltk_data] Downloading package wordnet to\n",
      "[nltk_data]     C:\\Users\\10124\\AppData\\Roaming\\nltk_data...\n",
      "[nltk_data]   Package wordnet is already up-to-date!\n"
     ]
    }
   ],
   "source": [
    "from nltk.stem import WordNetLemmatizer\n",
    "nltk.download('wordnet')\n",
    "\n",
    "wnl = WordNetLemmatizer()\n",
    "\n",
    "def flatten_and_lemmatize(tokens_list_of_lists):\n",
    "    # Flatten the list of lists into a single list\n",
    "    flattened_list = [token for sublist in tokens_list_of_lists for token in sublist]\n",
    "    # Lemmatize each token in the flattened list\n",
    "    lemmatized_tokens = [wnl.lemmatize(token) for token in flattened_list]\n",
    "    return lemmatized_tokens\n",
    "\n",
    "# Apply the function to the column that contains a list of lists\n",
    "clean_data['comments_tokenized_flatten_lemma'] = clean_data['comments_tokenized_clean'].apply(flatten_and_lemmatize)\n"
   ]
  },
  {
   "cell_type": "code",
   "execution_count": 11,
   "id": "70fe252e",
   "metadata": {},
   "outputs": [],
   "source": [
    "clean_data['comments_final'] = clean_data['comments_tokenized_flatten_lemma'].apply(lambda x: ' '.join(map(str, x)))"
   ]
  },
  {
   "cell_type": "code",
   "execution_count": 12,
   "id": "fcba488e",
   "metadata": {},
   "outputs": [
    {
     "data": {
      "text/html": [
       "<div>\n",
       "<style scoped>\n",
       "    .dataframe tbody tr th:only-of-type {\n",
       "        vertical-align: middle;\n",
       "    }\n",
       "\n",
       "    .dataframe tbody tr th {\n",
       "        vertical-align: top;\n",
       "    }\n",
       "\n",
       "    .dataframe thead th {\n",
       "        text-align: right;\n",
       "    }\n",
       "</style>\n",
       "<table border=\"1\" class=\"dataframe\">\n",
       "  <thead>\n",
       "    <tr style=\"text-align: right;\">\n",
       "      <th></th>\n",
       "      <th>inspection_id</th>\n",
       "      <th>dba_name</th>\n",
       "      <th>aka_name</th>\n",
       "      <th>license_</th>\n",
       "      <th>facility_type</th>\n",
       "      <th>risk</th>\n",
       "      <th>address</th>\n",
       "      <th>city</th>\n",
       "      <th>state</th>\n",
       "      <th>zip</th>\n",
       "      <th>...</th>\n",
       "      <th>:@computed_region_awaf_s7ux</th>\n",
       "      <th>:@computed_region_6mkv_f3dw</th>\n",
       "      <th>:@computed_region_vrxf_vc4k</th>\n",
       "      <th>:@computed_region_bdys_3d7i</th>\n",
       "      <th>:@computed_region_43wa_7qmu</th>\n",
       "      <th>comments</th>\n",
       "      <th>comments_tokenized</th>\n",
       "      <th>comments_tokenized_clean</th>\n",
       "      <th>comments_tokenized_flatten_lemma</th>\n",
       "      <th>comments_final</th>\n",
       "    </tr>\n",
       "  </thead>\n",
       "  <tbody>\n",
       "    <tr>\n",
       "      <th>0</th>\n",
       "      <td>2588644</td>\n",
       "      <td>Evers</td>\n",
       "      <td>Evers</td>\n",
       "      <td>26591</td>\n",
       "      <td>School</td>\n",
       "      <td>Risk 1 (High)</td>\n",
       "      <td>9811 S Lowe (632W)</td>\n",
       "      <td>CHICAGO</td>\n",
       "      <td>IL</td>\n",
       "      <td>60628</td>\n",
       "      <td>...</td>\n",
       "      <td>18</td>\n",
       "      <td>21861</td>\n",
       "      <td>72</td>\n",
       "      <td>593</td>\n",
       "      <td>22</td>\n",
       "      <td>[CERTIFIED MANAGER ON SITE HAS COPY OF CITY OF...</td>\n",
       "      <td>[[CERTIFIED, MANAGER, ON, SITE, HAS, COPY, OF,...</td>\n",
       "      <td>[[certified, manager, site, copy, city, chicag...</td>\n",
       "      <td>[certified, manager, site, copy, city, chicago...</td>\n",
       "      <td>certified manager site copy city chicago sanit...</td>\n",
       "    </tr>\n",
       "    <tr>\n",
       "      <th>1</th>\n",
       "      <td>2588643</td>\n",
       "      <td>THOMAS COFFEE SHOP</td>\n",
       "      <td>THOMAS COFFEE SHOP</td>\n",
       "      <td>7545</td>\n",
       "      <td>Restaurant</td>\n",
       "      <td>Risk 1 (High)</td>\n",
       "      <td>1657 E 87TH ST</td>\n",
       "      <td>CHICAGO</td>\n",
       "      <td>IL</td>\n",
       "      <td>60617</td>\n",
       "      <td>...</td>\n",
       "      <td>9</td>\n",
       "      <td>21202</td>\n",
       "      <td>44</td>\n",
       "      <td>473</td>\n",
       "      <td>35</td>\n",
       "      <td>[OBSERVED FROZEN MEAT IMRPOPERLY THAWING ON FL...</td>\n",
       "      <td>[[OBSERVED, FROZEN, MEAT, IMRPOPERLY, THAWING,...</td>\n",
       "      <td>[[observed, frozen, meat, imrpoperly, thawing,...</td>\n",
       "      <td>[observed, frozen, meat, imrpoperly, thawing, ...</td>\n",
       "      <td>observed frozen meat imrpoperly thawing floor ...</td>\n",
       "    </tr>\n",
       "    <tr>\n",
       "      <th>5</th>\n",
       "      <td>2588700</td>\n",
       "      <td>TONY'S TAMALES, LLC</td>\n",
       "      <td>TONY'S TAMALES</td>\n",
       "      <td>2873515</td>\n",
       "      <td>Restaurant</td>\n",
       "      <td>Risk 1 (High)</td>\n",
       "      <td>5706 S WESTERN AVE</td>\n",
       "      <td>CHICAGO</td>\n",
       "      <td>IL</td>\n",
       "      <td>60636</td>\n",
       "      <td>...</td>\n",
       "      <td>19</td>\n",
       "      <td>22257</td>\n",
       "      <td>61</td>\n",
       "      <td>112</td>\n",
       "      <td>2</td>\n",
       "      <td>[OBSERVED NO SIGNED EMPLOYEES HEALTH POLICIES ...</td>\n",
       "      <td>[[OBSERVED, NO, SIGNED, EMPLOYEES, HEALTH, POL...</td>\n",
       "      <td>[[observed, signed, employees, health, policie...</td>\n",
       "      <td>[observed, signed, employee, health, policy, m...</td>\n",
       "      <td>observed signed employee health policy must pr...</td>\n",
       "    </tr>\n",
       "    <tr>\n",
       "      <th>6</th>\n",
       "      <td>2588631</td>\n",
       "      <td>GOETHE ELEMENTARY SCHOOL</td>\n",
       "      <td>GOETHE ELEMENTARY SCHOOL</td>\n",
       "      <td>23341</td>\n",
       "      <td>School</td>\n",
       "      <td>Risk 1 (High)</td>\n",
       "      <td>2236 N Rockwell</td>\n",
       "      <td>CHICAGO</td>\n",
       "      <td>IL</td>\n",
       "      <td>60647</td>\n",
       "      <td>...</td>\n",
       "      <td>24</td>\n",
       "      <td>22535</td>\n",
       "      <td>23</td>\n",
       "      <td>294</td>\n",
       "      <td>41</td>\n",
       "      <td>[PERSON IN CHARGE WITH NO CITY OF CHICAGO sANI...</td>\n",
       "      <td>[[PERSON, IN, CHARGE, WITH, NO, CITY, OF, CHIC...</td>\n",
       "      <td>[[person, charge, city, chicago, sanitation, m...</td>\n",
       "      <td>[person, charge, city, chicago, sanitation, ma...</td>\n",
       "      <td>person charge city chicago sanitation manager ...</td>\n",
       "    </tr>\n",
       "    <tr>\n",
       "      <th>7</th>\n",
       "      <td>2588652</td>\n",
       "      <td>MONTESSORI OF ENGLEWOOD</td>\n",
       "      <td>MONTESSORI OF ENGLEWOOD</td>\n",
       "      <td>1362</td>\n",
       "      <td>School</td>\n",
       "      <td>Risk 1 (High)</td>\n",
       "      <td>6936 S HERMITAGE AVE</td>\n",
       "      <td>CHICAGO</td>\n",
       "      <td>IL</td>\n",
       "      <td>60636</td>\n",
       "      <td>...</td>\n",
       "      <td>17</td>\n",
       "      <td>22257</td>\n",
       "      <td>65</td>\n",
       "      <td>283</td>\n",
       "      <td>31</td>\n",
       "      <td>[OBSERVED NO HAND WASHING SOAP AT ALL HAND SIN...</td>\n",
       "      <td>[[OBSERVED, NO, HAND, WASHING, SOAP, AT, ALL, ...</td>\n",
       "      <td>[[observed, hand, washing, soap, hand, sinks, ...</td>\n",
       "      <td>[observed, hand, washing, soap, hand, sink, to...</td>\n",
       "      <td>observed hand washing soap hand sink toilet ro...</td>\n",
       "    </tr>\n",
       "  </tbody>\n",
       "</table>\n",
       "<p>5 rows × 27 columns</p>\n",
       "</div>"
      ],
      "text/plain": [
       "  inspection_id                  dba_name                  aka_name license_  \\\n",
       "0       2588644                     Evers                     Evers    26591   \n",
       "1       2588643        THOMAS COFFEE SHOP        THOMAS COFFEE SHOP     7545   \n",
       "5       2588700       TONY'S TAMALES, LLC            TONY'S TAMALES  2873515   \n",
       "6       2588631  GOETHE ELEMENTARY SCHOOL  GOETHE ELEMENTARY SCHOOL    23341   \n",
       "7       2588652   MONTESSORI OF ENGLEWOOD   MONTESSORI OF ENGLEWOOD     1362   \n",
       "\n",
       "  facility_type           risk                address     city state    zip  \\\n",
       "0        School  Risk 1 (High)    9811 S Lowe (632W)   CHICAGO    IL  60628   \n",
       "1    Restaurant  Risk 1 (High)        1657 E 87TH ST   CHICAGO    IL  60617   \n",
       "5    Restaurant  Risk 1 (High)    5706 S WESTERN AVE   CHICAGO    IL  60636   \n",
       "6        School  Risk 1 (High)       2236 N Rockwell   CHICAGO    IL  60647   \n",
       "7        School  Risk 1 (High)  6936 S HERMITAGE AVE   CHICAGO    IL  60636   \n",
       "\n",
       "   ... :@computed_region_awaf_s7ux :@computed_region_6mkv_f3dw  \\\n",
       "0  ...                          18                       21861   \n",
       "1  ...                           9                       21202   \n",
       "5  ...                          19                       22257   \n",
       "6  ...                          24                       22535   \n",
       "7  ...                          17                       22257   \n",
       "\n",
       "  :@computed_region_vrxf_vc4k :@computed_region_bdys_3d7i  \\\n",
       "0                          72                         593   \n",
       "1                          44                         473   \n",
       "5                          61                         112   \n",
       "6                          23                         294   \n",
       "7                          65                         283   \n",
       "\n",
       "  :@computed_region_43wa_7qmu  \\\n",
       "0                          22   \n",
       "1                          35   \n",
       "5                           2   \n",
       "6                          41   \n",
       "7                          31   \n",
       "\n",
       "                                            comments  \\\n",
       "0  [CERTIFIED MANAGER ON SITE HAS COPY OF CITY OF...   \n",
       "1  [OBSERVED FROZEN MEAT IMRPOPERLY THAWING ON FL...   \n",
       "5  [OBSERVED NO SIGNED EMPLOYEES HEALTH POLICIES ...   \n",
       "6  [PERSON IN CHARGE WITH NO CITY OF CHICAGO sANI...   \n",
       "7  [OBSERVED NO HAND WASHING SOAP AT ALL HAND SIN...   \n",
       "\n",
       "                                  comments_tokenized  \\\n",
       "0  [[CERTIFIED, MANAGER, ON, SITE, HAS, COPY, OF,...   \n",
       "1  [[OBSERVED, FROZEN, MEAT, IMRPOPERLY, THAWING,...   \n",
       "5  [[OBSERVED, NO, SIGNED, EMPLOYEES, HEALTH, POL...   \n",
       "6  [[PERSON, IN, CHARGE, WITH, NO, CITY, OF, CHIC...   \n",
       "7  [[OBSERVED, NO, HAND, WASHING, SOAP, AT, ALL, ...   \n",
       "\n",
       "                            comments_tokenized_clean  \\\n",
       "0  [[certified, manager, site, copy, city, chicag...   \n",
       "1  [[observed, frozen, meat, imrpoperly, thawing,...   \n",
       "5  [[observed, signed, employees, health, policie...   \n",
       "6  [[person, charge, city, chicago, sanitation, m...   \n",
       "7  [[observed, hand, washing, soap, hand, sinks, ...   \n",
       "\n",
       "                    comments_tokenized_flatten_lemma  \\\n",
       "0  [certified, manager, site, copy, city, chicago...   \n",
       "1  [observed, frozen, meat, imrpoperly, thawing, ...   \n",
       "5  [observed, signed, employee, health, policy, m...   \n",
       "6  [person, charge, city, chicago, sanitation, ma...   \n",
       "7  [observed, hand, washing, soap, hand, sink, to...   \n",
       "\n",
       "                                      comments_final  \n",
       "0  certified manager site copy city chicago sanit...  \n",
       "1  observed frozen meat imrpoperly thawing floor ...  \n",
       "5  observed signed employee health policy must pr...  \n",
       "6  person charge city chicago sanitation manager ...  \n",
       "7  observed hand washing soap hand sink toilet ro...  \n",
       "\n",
       "[5 rows x 27 columns]"
      ]
     },
     "execution_count": 12,
     "metadata": {},
     "output_type": "execute_result"
    }
   ],
   "source": [
    "clean_data.head()"
   ]
  },
  {
   "cell_type": "code",
   "execution_count": 13,
   "id": "fe78f6c7",
   "metadata": {},
   "outputs": [
    {
     "data": {
      "text/plain": [
       "array(['Pass w/ Conditions', 'Fail', 'Pass', 'No Entry', 'Not Ready',\n",
       "       'Out of Business'], dtype=object)"
      ]
     },
     "execution_count": 13,
     "metadata": {},
     "output_type": "execute_result"
    }
   ],
   "source": [
    "clean_data[\"results\"].unique()"
   ]
  },
  {
   "cell_type": "markdown",
   "id": "47d274b3",
   "metadata": {},
   "source": [
    "## Build a classification model\n",
    "predicting the outcome of inspection – comments are predictors, target variable is “Results” column\n"
   ]
  },
  {
   "cell_type": "code",
   "execution_count": 14,
   "id": "d2bfef0b",
   "metadata": {},
   "outputs": [],
   "source": [
    "from sklearn.model_selection import train_test_split\n",
    "from sklearn.feature_extraction.text import CountVectorizer, HashingVectorizer, TfidfTransformer, TfidfVectorizer\n",
    "from sklearn.naive_bayes import MultinomialNB\n",
    "from sklearn.metrics import classification_report, confusion_matrix, accuracy_score\n",
    "from sklearn.linear_model import LogisticRegression, SGDClassifier\n",
    "from sklearn import metrics"
   ]
  },
  {
   "cell_type": "code",
   "execution_count": 15,
   "id": "9593503b",
   "metadata": {},
   "outputs": [],
   "source": [
    "violation = clean_data[[\"comments_final\",\"results\"]]"
   ]
  },
  {
   "cell_type": "code",
   "execution_count": 16,
   "id": "d9bcc5a7",
   "metadata": {},
   "outputs": [
    {
     "data": {
      "text/html": [
       "<div>\n",
       "<style scoped>\n",
       "    .dataframe tbody tr th:only-of-type {\n",
       "        vertical-align: middle;\n",
       "    }\n",
       "\n",
       "    .dataframe tbody tr th {\n",
       "        vertical-align: top;\n",
       "    }\n",
       "\n",
       "    .dataframe thead th {\n",
       "        text-align: right;\n",
       "    }\n",
       "</style>\n",
       "<table border=\"1\" class=\"dataframe\">\n",
       "  <thead>\n",
       "    <tr style=\"text-align: right;\">\n",
       "      <th></th>\n",
       "      <th>comments_final</th>\n",
       "    </tr>\n",
       "    <tr>\n",
       "      <th>results</th>\n",
       "      <th></th>\n",
       "    </tr>\n",
       "  </thead>\n",
       "  <tbody>\n",
       "    <tr>\n",
       "      <th>Fail</th>\n",
       "      <td>48679</td>\n",
       "    </tr>\n",
       "    <tr>\n",
       "      <th>Pass</th>\n",
       "      <td>104403</td>\n",
       "    </tr>\n",
       "  </tbody>\n",
       "</table>\n",
       "</div>"
      ],
      "text/plain": [
       "         comments_final\n",
       "results                \n",
       "Fail              48679\n",
       "Pass             104403"
      ]
     },
     "execution_count": 16,
     "metadata": {},
     "output_type": "execute_result"
    }
   ],
   "source": [
    "violation = violation[(violation[\"results\"] == \"Pass\") | (violation[\"results\"] == \"Fail\")]\n",
    "violation.groupby(\"results\").count()"
   ]
  },
  {
   "cell_type": "code",
   "execution_count": 17,
   "id": "738f79bd",
   "metadata": {},
   "outputs": [
    {
     "data": {
      "text/html": [
       "<div>\n",
       "<style scoped>\n",
       "    .dataframe tbody tr th:only-of-type {\n",
       "        vertical-align: middle;\n",
       "    }\n",
       "\n",
       "    .dataframe tbody tr th {\n",
       "        vertical-align: top;\n",
       "    }\n",
       "\n",
       "    .dataframe thead th {\n",
       "        text-align: right;\n",
       "    }\n",
       "</style>\n",
       "<table border=\"1\" class=\"dataframe\">\n",
       "  <thead>\n",
       "    <tr style=\"text-align: right;\">\n",
       "      <th></th>\n",
       "      <th>comments_final</th>\n",
       "    </tr>\n",
       "    <tr>\n",
       "      <th>results</th>\n",
       "      <th></th>\n",
       "    </tr>\n",
       "  </thead>\n",
       "  <tbody>\n",
       "    <tr>\n",
       "      <th>Fail</th>\n",
       "      <td>10000</td>\n",
       "    </tr>\n",
       "    <tr>\n",
       "      <th>Pass</th>\n",
       "      <td>10000</td>\n",
       "    </tr>\n",
       "  </tbody>\n",
       "</table>\n",
       "</div>"
      ],
      "text/plain": [
       "         comments_final\n",
       "results                \n",
       "Fail              10000\n",
       "Pass              10000"
      ]
     },
     "execution_count": 17,
     "metadata": {},
     "output_type": "execute_result"
    }
   ],
   "source": [
    "violation = violation.groupby(\"results\").sample(n=10000, random_state=1)\n",
    "violation.reset_index(inplace=True, drop=True)\n",
    "violation.groupby(\"results\").count()"
   ]
  },
  {
   "cell_type": "code",
   "execution_count": 18,
   "id": "5b367b40",
   "metadata": {},
   "outputs": [],
   "source": [
    "violation['result_flag'] = violation.results.map({'Fail':0, 'Pass':1})"
   ]
  },
  {
   "cell_type": "code",
   "execution_count": 19,
   "id": "3b31c5f0",
   "metadata": {},
   "outputs": [],
   "source": [
    "X = violation.comments_final\n",
    "y = violation.result_flag"
   ]
  },
  {
   "cell_type": "code",
   "execution_count": 20,
   "id": "5dd4c62e",
   "metadata": {},
   "outputs": [],
   "source": [
    "X_train, X_test, y_train, y_test = train_test_split(X, y, random_state=1)"
   ]
  },
  {
   "cell_type": "code",
   "execution_count": 21,
   "id": "1d74f387",
   "metadata": {},
   "outputs": [],
   "source": [
    "# Initialize CountVectorizer with the desired ngram range\n",
    "vect = CountVectorizer(ngram_range=(1, 2))\n",
    "\n",
    "X_train_dtm = vect.fit_transform(X_train)\n",
    "X_test_dtm = vect.transform(X_test)"
   ]
  },
  {
   "cell_type": "code",
   "execution_count": 57,
   "id": "804d225e",
   "metadata": {},
   "outputs": [
    {
     "name": "stdout",
     "output_type": "stream",
     "text": [
      "18960    boy bathroom floor need detail cleaning remove...\n",
      "11353    provide product dry food container floor tile ...\n",
      "7449     observed slight debris accumulation encrusted ...\n",
      "14308    must detail exhaust hood filter exhaust hood c...\n",
      "11889    must properly label food storage container foo...\n",
      "                               ...                        \n",
      "10955    observed rusty shelving inside replace repair ...\n",
      "17289    observed knife stored two cooler instructed pr...\n",
      "5192     must post hand washing sign prep toilet room a...\n",
      "12172    clean floor rear premise must provide exposed ...\n",
      "235      observed water temperature hand sink rear prep...\n",
      "Name: comments_final, Length: 15000, dtype: object\n"
     ]
    }
   ],
   "source": [
    "print(X_train)"
   ]
  },
  {
   "cell_type": "markdown",
   "id": "5e48010b",
   "metadata": {},
   "source": [
    "### Logistic Regression"
   ]
  },
  {
   "cell_type": "code",
   "execution_count": 88,
   "id": "09ff3180",
   "metadata": {},
   "outputs": [],
   "source": [
    "logreg = LogisticRegression(max_iter=10000)"
   ]
  },
  {
   "cell_type": "code",
   "execution_count": 89,
   "id": "cf4a6c92",
   "metadata": {},
   "outputs": [
    {
     "name": "stdout",
     "output_type": "stream",
     "text": [
      "CPU times: total: 3.86 s\n",
      "Wall time: 3.51 s\n"
     ]
    },
    {
     "data": {
      "text/html": [
       "<style>#sk-container-id-7 {color: black;}#sk-container-id-7 pre{padding: 0;}#sk-container-id-7 div.sk-toggleable {background-color: white;}#sk-container-id-7 label.sk-toggleable__label {cursor: pointer;display: block;width: 100%;margin-bottom: 0;padding: 0.3em;box-sizing: border-box;text-align: center;}#sk-container-id-7 label.sk-toggleable__label-arrow:before {content: \"▸\";float: left;margin-right: 0.25em;color: #696969;}#sk-container-id-7 label.sk-toggleable__label-arrow:hover:before {color: black;}#sk-container-id-7 div.sk-estimator:hover label.sk-toggleable__label-arrow:before {color: black;}#sk-container-id-7 div.sk-toggleable__content {max-height: 0;max-width: 0;overflow: hidden;text-align: left;background-color: #f0f8ff;}#sk-container-id-7 div.sk-toggleable__content pre {margin: 0.2em;color: black;border-radius: 0.25em;background-color: #f0f8ff;}#sk-container-id-7 input.sk-toggleable__control:checked~div.sk-toggleable__content {max-height: 200px;max-width: 100%;overflow: auto;}#sk-container-id-7 input.sk-toggleable__control:checked~label.sk-toggleable__label-arrow:before {content: \"▾\";}#sk-container-id-7 div.sk-estimator input.sk-toggleable__control:checked~label.sk-toggleable__label {background-color: #d4ebff;}#sk-container-id-7 div.sk-label input.sk-toggleable__control:checked~label.sk-toggleable__label {background-color: #d4ebff;}#sk-container-id-7 input.sk-hidden--visually {border: 0;clip: rect(1px 1px 1px 1px);clip: rect(1px, 1px, 1px, 1px);height: 1px;margin: -1px;overflow: hidden;padding: 0;position: absolute;width: 1px;}#sk-container-id-7 div.sk-estimator {font-family: monospace;background-color: #f0f8ff;border: 1px dotted black;border-radius: 0.25em;box-sizing: border-box;margin-bottom: 0.5em;}#sk-container-id-7 div.sk-estimator:hover {background-color: #d4ebff;}#sk-container-id-7 div.sk-parallel-item::after {content: \"\";width: 100%;border-bottom: 1px solid gray;flex-grow: 1;}#sk-container-id-7 div.sk-label:hover label.sk-toggleable__label {background-color: #d4ebff;}#sk-container-id-7 div.sk-serial::before {content: \"\";position: absolute;border-left: 1px solid gray;box-sizing: border-box;top: 0;bottom: 0;left: 50%;z-index: 0;}#sk-container-id-7 div.sk-serial {display: flex;flex-direction: column;align-items: center;background-color: white;padding-right: 0.2em;padding-left: 0.2em;position: relative;}#sk-container-id-7 div.sk-item {position: relative;z-index: 1;}#sk-container-id-7 div.sk-parallel {display: flex;align-items: stretch;justify-content: center;background-color: white;position: relative;}#sk-container-id-7 div.sk-item::before, #sk-container-id-7 div.sk-parallel-item::before {content: \"\";position: absolute;border-left: 1px solid gray;box-sizing: border-box;top: 0;bottom: 0;left: 50%;z-index: -1;}#sk-container-id-7 div.sk-parallel-item {display: flex;flex-direction: column;z-index: 1;position: relative;background-color: white;}#sk-container-id-7 div.sk-parallel-item:first-child::after {align-self: flex-end;width: 50%;}#sk-container-id-7 div.sk-parallel-item:last-child::after {align-self: flex-start;width: 50%;}#sk-container-id-7 div.sk-parallel-item:only-child::after {width: 0;}#sk-container-id-7 div.sk-dashed-wrapped {border: 1px dashed gray;margin: 0 0.4em 0.5em 0.4em;box-sizing: border-box;padding-bottom: 0.4em;background-color: white;}#sk-container-id-7 div.sk-label label {font-family: monospace;font-weight: bold;display: inline-block;line-height: 1.2em;}#sk-container-id-7 div.sk-label-container {text-align: center;}#sk-container-id-7 div.sk-container {/* jupyter's `normalize.less` sets `[hidden] { display: none; }` but bootstrap.min.css set `[hidden] { display: none !important; }` so we also need the `!important` here to be able to override the default hidden behavior on the sphinx rendered scikit-learn.org. See: https://github.com/scikit-learn/scikit-learn/issues/21755 */display: inline-block !important;position: relative;}#sk-container-id-7 div.sk-text-repr-fallback {display: none;}</style><div id=\"sk-container-id-7\" class=\"sk-top-container\"><div class=\"sk-text-repr-fallback\"><pre>LogisticRegression(max_iter=10000)</pre><b>In a Jupyter environment, please rerun this cell to show the HTML representation or trust the notebook. <br />On GitHub, the HTML representation is unable to render, please try loading this page with nbviewer.org.</b></div><div class=\"sk-container\" hidden><div class=\"sk-item\"><div class=\"sk-estimator sk-toggleable\"><input class=\"sk-toggleable__control sk-hidden--visually\" id=\"sk-estimator-id-13\" type=\"checkbox\" checked><label for=\"sk-estimator-id-13\" class=\"sk-toggleable__label sk-toggleable__label-arrow\">LogisticRegression</label><div class=\"sk-toggleable__content\"><pre>LogisticRegression(max_iter=10000)</pre></div></div></div></div></div>"
      ],
      "text/plain": [
       "LogisticRegression(max_iter=10000)"
      ]
     },
     "execution_count": 89,
     "metadata": {},
     "output_type": "execute_result"
    }
   ],
   "source": [
    "%time logreg.fit(X_train_dtm, y_train)"
   ]
  },
  {
   "cell_type": "code",
   "execution_count": 90,
   "id": "5eddbed3",
   "metadata": {},
   "outputs": [],
   "source": [
    "y_pred_class = logreg.predict(X_test_dtm)"
   ]
  },
  {
   "cell_type": "code",
   "execution_count": 91,
   "id": "a971eaa1",
   "metadata": {},
   "outputs": [
    {
     "name": "stdout",
     "output_type": "stream",
     "text": [
      "Test Accuracy: 97.2%\n"
     ]
    }
   ],
   "source": [
    "logic_accuracy = metrics.accuracy_score(y_test, y_pred_class)\n",
    "print(f\"Test Accuracy: {logic_accuracy * 100:.1f}%\")"
   ]
  },
  {
   "cell_type": "code",
   "execution_count": 26,
   "id": "c2189b55",
   "metadata": {},
   "outputs": [
    {
     "name": "stdout",
     "output_type": "stream",
     "text": [
      "              precision    recall  f1-score   support\n",
      "\n",
      "           0       0.99      0.96      0.97      2569\n",
      "           1       0.96      0.99      0.97      2431\n",
      "\n",
      "    accuracy                           0.97      5000\n",
      "   macro avg       0.97      0.97      0.97      5000\n",
      "weighted avg       0.97      0.97      0.97      5000\n",
      "\n"
     ]
    }
   ],
   "source": [
    "print(classification_report(y_test, y_pred_class))"
   ]
  },
  {
   "cell_type": "code",
   "execution_count": 27,
   "id": "9e73b891",
   "metadata": {},
   "outputs": [],
   "source": [
    "clf = logreg\n",
    "\n",
    "\n",
    "feature_names = vect.get_feature_names_out()\n",
    "coefs_with_fns = zip(feature_names, clf.coef_[0])\n",
    "\n",
    "coefs_with_fns_df = pd.DataFrame(coefs_with_fns,\n",
    "                    columns=['feature', 'coefficient'])"
   ]
  },
  {
   "cell_type": "code",
   "execution_count": 28,
   "id": "90557aa7",
   "metadata": {},
   "outputs": [
    {
     "data": {
      "text/html": [
       "<div>\n",
       "<style scoped>\n",
       "    .dataframe tbody tr th:only-of-type {\n",
       "        vertical-align: middle;\n",
       "    }\n",
       "\n",
       "    .dataframe tbody tr th {\n",
       "        vertical-align: top;\n",
       "    }\n",
       "\n",
       "    .dataframe thead th {\n",
       "        text-align: right;\n",
       "    }\n",
       "</style>\n",
       "<table border=\"1\" class=\"dataframe\">\n",
       "  <thead>\n",
       "    <tr style=\"text-align: right;\">\n",
       "      <th></th>\n",
       "      <th>feature</th>\n",
       "      <th>coefficient</th>\n",
       "    </tr>\n",
       "  </thead>\n",
       "  <tbody>\n",
       "    <tr>\n",
       "      <th>129131</th>\n",
       "      <td>serious</td>\n",
       "      <td>-3.629261</td>\n",
       "    </tr>\n",
       "    <tr>\n",
       "      <th>22183</th>\n",
       "      <td>citation</td>\n",
       "      <td>-2.132469</td>\n",
       "    </tr>\n",
       "    <tr>\n",
       "      <th>34920</th>\n",
       "      <td>critical</td>\n",
       "      <td>-2.103297</td>\n",
       "    </tr>\n",
       "    <tr>\n",
       "      <th>129302</th>\n",
       "      <td>serious violation</td>\n",
       "      <td>-1.872994</td>\n",
       "    </tr>\n",
       "    <tr>\n",
       "      <th>157873</th>\n",
       "      <td>violation</td>\n",
       "      <td>-1.691434</td>\n",
       "    </tr>\n",
       "    <tr>\n",
       "      <th>110304</th>\n",
       "      <td>priority</td>\n",
       "      <td>-1.620207</td>\n",
       "    </tr>\n",
       "    <tr>\n",
       "      <th>45490</th>\n",
       "      <td>dumpster</td>\n",
       "      <td>-1.519556</td>\n",
       "    </tr>\n",
       "    <tr>\n",
       "      <th>69304</th>\n",
       "      <td>hot running</td>\n",
       "      <td>-1.364313</td>\n",
       "    </tr>\n",
       "    <tr>\n",
       "      <th>35017</th>\n",
       "      <td>critical violation</td>\n",
       "      <td>-1.347528</td>\n",
       "    </tr>\n",
       "    <tr>\n",
       "      <th>44572</th>\n",
       "      <td>droppings</td>\n",
       "      <td>-1.311535</td>\n",
       "    </tr>\n",
       "  </tbody>\n",
       "</table>\n",
       "</div>"
      ],
      "text/plain": [
       "                   feature  coefficient\n",
       "129131             serious    -3.629261\n",
       "22183             citation    -2.132469\n",
       "34920             critical    -2.103297\n",
       "129302   serious violation    -1.872994\n",
       "157873           violation    -1.691434\n",
       "110304            priority    -1.620207\n",
       "45490             dumpster    -1.519556\n",
       "69304          hot running    -1.364313\n",
       "35017   critical violation    -1.347528\n",
       "44572            droppings    -1.311535"
      ]
     },
     "execution_count": 28,
     "metadata": {},
     "output_type": "execute_result"
    }
   ],
   "source": [
    "coefs_with_fns_df.sort_values(by='coefficient', ascending=True, inplace=True)\n",
    "coefs_with_fns_df.head(10)"
   ]
  },
  {
   "cell_type": "markdown",
   "id": "a822c061",
   "metadata": {},
   "source": [
    "### Naive Bayes Model"
   ]
  },
  {
   "cell_type": "code",
   "execution_count": 101,
   "id": "38c3b49e",
   "metadata": {},
   "outputs": [],
   "source": [
    "# instantiate a Multinomial Naive Bayes model\n",
    "nb = MultinomialNB()"
   ]
  },
  {
   "cell_type": "code",
   "execution_count": 102,
   "id": "ed50b44f",
   "metadata": {},
   "outputs": [
    {
     "name": "stdout",
     "output_type": "stream",
     "text": [
      "CPU times: total: 15.6 ms\n",
      "Wall time: 15 ms\n"
     ]
    },
    {
     "data": {
      "text/html": [
       "<style>#sk-container-id-8 {color: black;}#sk-container-id-8 pre{padding: 0;}#sk-container-id-8 div.sk-toggleable {background-color: white;}#sk-container-id-8 label.sk-toggleable__label {cursor: pointer;display: block;width: 100%;margin-bottom: 0;padding: 0.3em;box-sizing: border-box;text-align: center;}#sk-container-id-8 label.sk-toggleable__label-arrow:before {content: \"▸\";float: left;margin-right: 0.25em;color: #696969;}#sk-container-id-8 label.sk-toggleable__label-arrow:hover:before {color: black;}#sk-container-id-8 div.sk-estimator:hover label.sk-toggleable__label-arrow:before {color: black;}#sk-container-id-8 div.sk-toggleable__content {max-height: 0;max-width: 0;overflow: hidden;text-align: left;background-color: #f0f8ff;}#sk-container-id-8 div.sk-toggleable__content pre {margin: 0.2em;color: black;border-radius: 0.25em;background-color: #f0f8ff;}#sk-container-id-8 input.sk-toggleable__control:checked~div.sk-toggleable__content {max-height: 200px;max-width: 100%;overflow: auto;}#sk-container-id-8 input.sk-toggleable__control:checked~label.sk-toggleable__label-arrow:before {content: \"▾\";}#sk-container-id-8 div.sk-estimator input.sk-toggleable__control:checked~label.sk-toggleable__label {background-color: #d4ebff;}#sk-container-id-8 div.sk-label input.sk-toggleable__control:checked~label.sk-toggleable__label {background-color: #d4ebff;}#sk-container-id-8 input.sk-hidden--visually {border: 0;clip: rect(1px 1px 1px 1px);clip: rect(1px, 1px, 1px, 1px);height: 1px;margin: -1px;overflow: hidden;padding: 0;position: absolute;width: 1px;}#sk-container-id-8 div.sk-estimator {font-family: monospace;background-color: #f0f8ff;border: 1px dotted black;border-radius: 0.25em;box-sizing: border-box;margin-bottom: 0.5em;}#sk-container-id-8 div.sk-estimator:hover {background-color: #d4ebff;}#sk-container-id-8 div.sk-parallel-item::after {content: \"\";width: 100%;border-bottom: 1px solid gray;flex-grow: 1;}#sk-container-id-8 div.sk-label:hover label.sk-toggleable__label {background-color: #d4ebff;}#sk-container-id-8 div.sk-serial::before {content: \"\";position: absolute;border-left: 1px solid gray;box-sizing: border-box;top: 0;bottom: 0;left: 50%;z-index: 0;}#sk-container-id-8 div.sk-serial {display: flex;flex-direction: column;align-items: center;background-color: white;padding-right: 0.2em;padding-left: 0.2em;position: relative;}#sk-container-id-8 div.sk-item {position: relative;z-index: 1;}#sk-container-id-8 div.sk-parallel {display: flex;align-items: stretch;justify-content: center;background-color: white;position: relative;}#sk-container-id-8 div.sk-item::before, #sk-container-id-8 div.sk-parallel-item::before {content: \"\";position: absolute;border-left: 1px solid gray;box-sizing: border-box;top: 0;bottom: 0;left: 50%;z-index: -1;}#sk-container-id-8 div.sk-parallel-item {display: flex;flex-direction: column;z-index: 1;position: relative;background-color: white;}#sk-container-id-8 div.sk-parallel-item:first-child::after {align-self: flex-end;width: 50%;}#sk-container-id-8 div.sk-parallel-item:last-child::after {align-self: flex-start;width: 50%;}#sk-container-id-8 div.sk-parallel-item:only-child::after {width: 0;}#sk-container-id-8 div.sk-dashed-wrapped {border: 1px dashed gray;margin: 0 0.4em 0.5em 0.4em;box-sizing: border-box;padding-bottom: 0.4em;background-color: white;}#sk-container-id-8 div.sk-label label {font-family: monospace;font-weight: bold;display: inline-block;line-height: 1.2em;}#sk-container-id-8 div.sk-label-container {text-align: center;}#sk-container-id-8 div.sk-container {/* jupyter's `normalize.less` sets `[hidden] { display: none; }` but bootstrap.min.css set `[hidden] { display: none !important; }` so we also need the `!important` here to be able to override the default hidden behavior on the sphinx rendered scikit-learn.org. See: https://github.com/scikit-learn/scikit-learn/issues/21755 */display: inline-block !important;position: relative;}#sk-container-id-8 div.sk-text-repr-fallback {display: none;}</style><div id=\"sk-container-id-8\" class=\"sk-top-container\"><div class=\"sk-text-repr-fallback\"><pre>MultinomialNB()</pre><b>In a Jupyter environment, please rerun this cell to show the HTML representation or trust the notebook. <br />On GitHub, the HTML representation is unable to render, please try loading this page with nbviewer.org.</b></div><div class=\"sk-container\" hidden><div class=\"sk-item\"><div class=\"sk-estimator sk-toggleable\"><input class=\"sk-toggleable__control sk-hidden--visually\" id=\"sk-estimator-id-14\" type=\"checkbox\" checked><label for=\"sk-estimator-id-14\" class=\"sk-toggleable__label sk-toggleable__label-arrow\">MultinomialNB</label><div class=\"sk-toggleable__content\"><pre>MultinomialNB()</pre></div></div></div></div></div>"
      ],
      "text/plain": [
       "MultinomialNB()"
      ]
     },
     "execution_count": 102,
     "metadata": {},
     "output_type": "execute_result"
    }
   ],
   "source": [
    "# train and time the model using X_train_dtm\n",
    "%time nb.fit(X_train_dtm, y_train)"
   ]
  },
  {
   "cell_type": "code",
   "execution_count": 103,
   "id": "dbba3f2c",
   "metadata": {},
   "outputs": [],
   "source": [
    "# make class predictions for X_test_dtm\n",
    "y_pred_class = nb.predict(X_test_dtm)"
   ]
  },
  {
   "cell_type": "code",
   "execution_count": 104,
   "id": "a8ee4010",
   "metadata": {},
   "outputs": [
    {
     "name": "stdout",
     "output_type": "stream",
     "text": [
      "Test Accuracy: 90.8%\n"
     ]
    }
   ],
   "source": [
    "# calculate accuracy of class predictions\n",
    "bayes_accuracy = metrics.accuracy_score(y_test, y_pred_class)\n",
    "print(f\"Test Accuracy: {bayes_accuracy * 100:.1f}%\")"
   ]
  },
  {
   "cell_type": "code",
   "execution_count": 33,
   "id": "894ac553",
   "metadata": {},
   "outputs": [
    {
     "name": "stdout",
     "output_type": "stream",
     "text": [
      "              precision    recall  f1-score   support\n",
      "\n",
      "           0       0.89      0.94      0.91      2569\n",
      "           1       0.94      0.87      0.90      2431\n",
      "\n",
      "    accuracy                           0.91      5000\n",
      "   macro avg       0.91      0.91      0.91      5000\n",
      "weighted avg       0.91      0.91      0.91      5000\n",
      "\n"
     ]
    }
   ],
   "source": [
    "# calculate precision and recall\n",
    "print(classification_report(y_test, y_pred_class))"
   ]
  },
  {
   "cell_type": "code",
   "execution_count": 80,
   "id": "1b0c3d50",
   "metadata": {},
   "outputs": [
    {
     "name": "stdout",
     "output_type": "stream",
     "text": [
      "[[2427  142]\n",
      " [  91 2340]]\n"
     ]
    }
   ],
   "source": [
    "# calculate the confusion matrix\n",
    "print(metrics.confusion_matrix(y_test, y_pred_class))"
   ]
  },
  {
   "cell_type": "code",
   "execution_count": 36,
   "id": "7d5798a8",
   "metadata": {},
   "outputs": [],
   "source": [
    "clf = nb  # Assuming 'nb' is an instance of MultinomialNB that's already been fitted\n",
    "\n",
    "feature_names = vect.get_feature_names_out()\n",
    "log_prob = clf.feature_log_prob_\n",
    "\n",
    "# Since we're dealing with log probabilities, you can directly use 'log_prob'\n",
    "# Assuming interest in the first class for demonstration\n",
    "coefs_with_fns = zip(feature_names, log_prob[0])\n",
    "\n",
    "coefs_with_fns_df = pd.DataFrame(coefs_with_fns, columns=['feature', 'log_probability'])\n"
   ]
  },
  {
   "cell_type": "code",
   "execution_count": 37,
   "id": "5dded9a0",
   "metadata": {},
   "outputs": [
    {
     "data": {
      "text/html": [
       "<div>\n",
       "<style scoped>\n",
       "    .dataframe tbody tr th:only-of-type {\n",
       "        vertical-align: middle;\n",
       "    }\n",
       "\n",
       "    .dataframe tbody tr th {\n",
       "        vertical-align: top;\n",
       "    }\n",
       "\n",
       "    .dataframe thead th {\n",
       "        text-align: right;\n",
       "    }\n",
       "</style>\n",
       "<table border=\"1\" class=\"dataframe\">\n",
       "  <thead>\n",
       "    <tr style=\"text-align: right;\">\n",
       "      <th></th>\n",
       "      <th>feature</th>\n",
       "      <th>log_probability</th>\n",
       "    </tr>\n",
       "  </thead>\n",
       "  <tbody>\n",
       "    <tr>\n",
       "      <th>92284</th>\n",
       "      <td>must</td>\n",
       "      <td>-4.483265</td>\n",
       "    </tr>\n",
       "    <tr>\n",
       "      <th>56633</th>\n",
       "      <td>food</td>\n",
       "      <td>-4.484889</td>\n",
       "    </tr>\n",
       "    <tr>\n",
       "      <th>4547</th>\n",
       "      <td>area</td>\n",
       "      <td>-4.580358</td>\n",
       "    </tr>\n",
       "    <tr>\n",
       "      <th>73782</th>\n",
       "      <td>instructed</td>\n",
       "      <td>-4.626625</td>\n",
       "    </tr>\n",
       "    <tr>\n",
       "      <th>96567</th>\n",
       "      <td>observed</td>\n",
       "      <td>-4.704877</td>\n",
       "    </tr>\n",
       "    <tr>\n",
       "      <th>22667</th>\n",
       "      <td>clean</td>\n",
       "      <td>-4.831091</td>\n",
       "    </tr>\n",
       "    <tr>\n",
       "      <th>133444</th>\n",
       "      <td>sink</td>\n",
       "      <td>-4.932679</td>\n",
       "    </tr>\n",
       "    <tr>\n",
       "      <th>54563</th>\n",
       "      <td>floor</td>\n",
       "      <td>-5.042424</td>\n",
       "    </tr>\n",
       "    <tr>\n",
       "      <th>85551</th>\n",
       "      <td>maintain</td>\n",
       "      <td>-5.063515</td>\n",
       "    </tr>\n",
       "    <tr>\n",
       "      <th>108607</th>\n",
       "      <td>prep</td>\n",
       "      <td>-5.112472</td>\n",
       "    </tr>\n",
       "  </tbody>\n",
       "</table>\n",
       "</div>"
      ],
      "text/plain": [
       "           feature  log_probability\n",
       "92284         must        -4.483265\n",
       "56633         food        -4.484889\n",
       "4547          area        -4.580358\n",
       "73782   instructed        -4.626625\n",
       "96567     observed        -4.704877\n",
       "22667        clean        -4.831091\n",
       "133444        sink        -4.932679\n",
       "54563        floor        -5.042424\n",
       "85551     maintain        -5.063515\n",
       "108607        prep        -5.112472"
      ]
     },
     "execution_count": 37,
     "metadata": {},
     "output_type": "execute_result"
    }
   ],
   "source": [
    "coefs_with_fns_df.sort_values(by='log_probability', ascending=False, inplace=True)\n",
    "coefs_with_fns_df.head(10)"
   ]
  },
  {
   "cell_type": "markdown",
   "id": "8af497b9",
   "metadata": {},
   "source": [
    "### SVM"
   ]
  },
  {
   "cell_type": "code",
   "execution_count": 43,
   "id": "8a3fccca",
   "metadata": {},
   "outputs": [
    {
     "name": "stdout",
     "output_type": "stream",
     "text": [
      "CPU times: total: 453 ms\n",
      "Wall time: 450 ms\n"
     ]
    }
   ],
   "source": [
    "# instantiate a SVM model\n",
    "svm = SGDClassifier(max_iter=100, tol=None)\n",
    "# train the model using X_train_dtm\n",
    "%time svm.fit(X_train_dtm, y_train)\n",
    "# make class predictions for X_test_dtm\n",
    "y_pred_class = svm.predict(X_test_dtm)"
   ]
  },
  {
   "cell_type": "code",
   "execution_count": 86,
   "id": "f8b004b4",
   "metadata": {},
   "outputs": [
    {
     "name": "stdout",
     "output_type": "stream",
     "text": [
      "0.9534\n"
     ]
    }
   ],
   "source": [
    "# calculate accuracy of class predictions\n",
    "svm_accuracy = metrics.accuracy_score(y_test, y_pred_class)\n",
    "print(svm_accuracy)"
   ]
  },
  {
   "cell_type": "code",
   "execution_count": 39,
   "id": "ce24fd63",
   "metadata": {},
   "outputs": [
    {
     "name": "stdout",
     "output_type": "stream",
     "text": [
      "              precision    recall  f1-score   support\n",
      "\n",
      "           0       0.96      0.95      0.95      2569\n",
      "           1       0.94      0.96      0.95      2431\n",
      "\n",
      "    accuracy                           0.95      5000\n",
      "   macro avg       0.95      0.95      0.95      5000\n",
      "weighted avg       0.95      0.95      0.95      5000\n",
      "\n",
      "[[2428  141]\n",
      " [  97 2334]]\n"
     ]
    }
   ],
   "source": [
    "# calculate precision and recall\n",
    "print(classification_report(y_test, y_pred_class))\n",
    "# calculate the confusion matrix\n",
    "print(metrics.confusion_matrix(y_test, y_pred_class))"
   ]
  },
  {
   "cell_type": "code",
   "execution_count": 40,
   "id": "87d65559",
   "metadata": {},
   "outputs": [
    {
     "data": {
      "text/html": [
       "<style>#sk-container-id-4 {color: black;}#sk-container-id-4 pre{padding: 0;}#sk-container-id-4 div.sk-toggleable {background-color: white;}#sk-container-id-4 label.sk-toggleable__label {cursor: pointer;display: block;width: 100%;margin-bottom: 0;padding: 0.3em;box-sizing: border-box;text-align: center;}#sk-container-id-4 label.sk-toggleable__label-arrow:before {content: \"▸\";float: left;margin-right: 0.25em;color: #696969;}#sk-container-id-4 label.sk-toggleable__label-arrow:hover:before {color: black;}#sk-container-id-4 div.sk-estimator:hover label.sk-toggleable__label-arrow:before {color: black;}#sk-container-id-4 div.sk-toggleable__content {max-height: 0;max-width: 0;overflow: hidden;text-align: left;background-color: #f0f8ff;}#sk-container-id-4 div.sk-toggleable__content pre {margin: 0.2em;color: black;border-radius: 0.25em;background-color: #f0f8ff;}#sk-container-id-4 input.sk-toggleable__control:checked~div.sk-toggleable__content {max-height: 200px;max-width: 100%;overflow: auto;}#sk-container-id-4 input.sk-toggleable__control:checked~label.sk-toggleable__label-arrow:before {content: \"▾\";}#sk-container-id-4 div.sk-estimator input.sk-toggleable__control:checked~label.sk-toggleable__label {background-color: #d4ebff;}#sk-container-id-4 div.sk-label input.sk-toggleable__control:checked~label.sk-toggleable__label {background-color: #d4ebff;}#sk-container-id-4 input.sk-hidden--visually {border: 0;clip: rect(1px 1px 1px 1px);clip: rect(1px, 1px, 1px, 1px);height: 1px;margin: -1px;overflow: hidden;padding: 0;position: absolute;width: 1px;}#sk-container-id-4 div.sk-estimator {font-family: monospace;background-color: #f0f8ff;border: 1px dotted black;border-radius: 0.25em;box-sizing: border-box;margin-bottom: 0.5em;}#sk-container-id-4 div.sk-estimator:hover {background-color: #d4ebff;}#sk-container-id-4 div.sk-parallel-item::after {content: \"\";width: 100%;border-bottom: 1px solid gray;flex-grow: 1;}#sk-container-id-4 div.sk-label:hover label.sk-toggleable__label {background-color: #d4ebff;}#sk-container-id-4 div.sk-serial::before {content: \"\";position: absolute;border-left: 1px solid gray;box-sizing: border-box;top: 0;bottom: 0;left: 50%;z-index: 0;}#sk-container-id-4 div.sk-serial {display: flex;flex-direction: column;align-items: center;background-color: white;padding-right: 0.2em;padding-left: 0.2em;position: relative;}#sk-container-id-4 div.sk-item {position: relative;z-index: 1;}#sk-container-id-4 div.sk-parallel {display: flex;align-items: stretch;justify-content: center;background-color: white;position: relative;}#sk-container-id-4 div.sk-item::before, #sk-container-id-4 div.sk-parallel-item::before {content: \"\";position: absolute;border-left: 1px solid gray;box-sizing: border-box;top: 0;bottom: 0;left: 50%;z-index: -1;}#sk-container-id-4 div.sk-parallel-item {display: flex;flex-direction: column;z-index: 1;position: relative;background-color: white;}#sk-container-id-4 div.sk-parallel-item:first-child::after {align-self: flex-end;width: 50%;}#sk-container-id-4 div.sk-parallel-item:last-child::after {align-self: flex-start;width: 50%;}#sk-container-id-4 div.sk-parallel-item:only-child::after {width: 0;}#sk-container-id-4 div.sk-dashed-wrapped {border: 1px dashed gray;margin: 0 0.4em 0.5em 0.4em;box-sizing: border-box;padding-bottom: 0.4em;background-color: white;}#sk-container-id-4 div.sk-label label {font-family: monospace;font-weight: bold;display: inline-block;line-height: 1.2em;}#sk-container-id-4 div.sk-label-container {text-align: center;}#sk-container-id-4 div.sk-container {/* jupyter's `normalize.less` sets `[hidden] { display: none; }` but bootstrap.min.css set `[hidden] { display: none !important; }` so we also need the `!important` here to be able to override the default hidden behavior on the sphinx rendered scikit-learn.org. See: https://github.com/scikit-learn/scikit-learn/issues/21755 */display: inline-block !important;position: relative;}#sk-container-id-4 div.sk-text-repr-fallback {display: none;}</style><div id=\"sk-container-id-4\" class=\"sk-top-container\"><div class=\"sk-text-repr-fallback\"><pre>SGDClassifier(max_iter=100, tol=None)</pre><b>In a Jupyter environment, please rerun this cell to show the HTML representation or trust the notebook. <br />On GitHub, the HTML representation is unable to render, please try loading this page with nbviewer.org.</b></div><div class=\"sk-container\" hidden><div class=\"sk-item\"><div class=\"sk-estimator sk-toggleable\"><input class=\"sk-toggleable__control sk-hidden--visually\" id=\"sk-estimator-id-6\" type=\"checkbox\" checked><label for=\"sk-estimator-id-6\" class=\"sk-toggleable__label sk-toggleable__label-arrow\">SGDClassifier</label><div class=\"sk-toggleable__content\"><pre>SGDClassifier(max_iter=100, tol=None)</pre></div></div></div></div></div>"
      ],
      "text/plain": [
       "SGDClassifier(max_iter=100, tol=None)"
      ]
     },
     "execution_count": 40,
     "metadata": {},
     "output_type": "execute_result"
    }
   ],
   "source": [
    "svm"
   ]
  },
  {
   "cell_type": "code",
   "execution_count": 41,
   "id": "0adc5a6d",
   "metadata": {},
   "outputs": [],
   "source": [
    "clf = svm\n",
    "\n",
    "\n",
    "feature_names = vect.get_feature_names_out()\n",
    "coefs_with_fns = zip(feature_names, clf.coef_[0])\n",
    "\n",
    "coefs_with_fns_df = pd.DataFrame(coefs_with_fns,\n",
    "                    columns=['feature', 'coefficient'])"
   ]
  },
  {
   "cell_type": "code",
   "execution_count": 42,
   "id": "14ffce86",
   "metadata": {},
   "outputs": [
    {
     "data": {
      "text/html": [
       "<div>\n",
       "<style scoped>\n",
       "    .dataframe tbody tr th:only-of-type {\n",
       "        vertical-align: middle;\n",
       "    }\n",
       "\n",
       "    .dataframe tbody tr th {\n",
       "        vertical-align: top;\n",
       "    }\n",
       "\n",
       "    .dataframe thead th {\n",
       "        text-align: right;\n",
       "    }\n",
       "</style>\n",
       "<table border=\"1\" class=\"dataframe\">\n",
       "  <thead>\n",
       "    <tr style=\"text-align: right;\">\n",
       "      <th></th>\n",
       "      <th>feature</th>\n",
       "      <th>coefficient</th>\n",
       "    </tr>\n",
       "  </thead>\n",
       "  <tbody>\n",
       "    <tr>\n",
       "      <th>129131</th>\n",
       "      <td>serious</td>\n",
       "      <td>-4.490343</td>\n",
       "    </tr>\n",
       "    <tr>\n",
       "      <th>22183</th>\n",
       "      <td>citation</td>\n",
       "      <td>-3.717524</td>\n",
       "    </tr>\n",
       "    <tr>\n",
       "      <th>34920</th>\n",
       "      <td>critical</td>\n",
       "      <td>-2.998003</td>\n",
       "    </tr>\n",
       "    <tr>\n",
       "      <th>157873</th>\n",
       "      <td>violation</td>\n",
       "      <td>-2.871421</td>\n",
       "    </tr>\n",
       "    <tr>\n",
       "      <th>45490</th>\n",
       "      <td>dumpster</td>\n",
       "      <td>-2.804799</td>\n",
       "    </tr>\n",
       "    <tr>\n",
       "      <th>104229</th>\n",
       "      <td>pest control</td>\n",
       "      <td>-2.691541</td>\n",
       "    </tr>\n",
       "    <tr>\n",
       "      <th>73068</th>\n",
       "      <td>install</td>\n",
       "      <td>-2.644905</td>\n",
       "    </tr>\n",
       "    <tr>\n",
       "      <th>129302</th>\n",
       "      <td>serious violation</td>\n",
       "      <td>-2.458363</td>\n",
       "    </tr>\n",
       "    <tr>\n",
       "      <th>110304</th>\n",
       "      <td>priority</td>\n",
       "      <td>-2.451701</td>\n",
       "    </tr>\n",
       "    <tr>\n",
       "      <th>123247</th>\n",
       "      <td>rodent</td>\n",
       "      <td>-2.405065</td>\n",
       "    </tr>\n",
       "  </tbody>\n",
       "</table>\n",
       "</div>"
      ],
      "text/plain": [
       "                  feature  coefficient\n",
       "129131            serious    -4.490343\n",
       "22183            citation    -3.717524\n",
       "34920            critical    -2.998003\n",
       "157873          violation    -2.871421\n",
       "45490            dumpster    -2.804799\n",
       "104229       pest control    -2.691541\n",
       "73068             install    -2.644905\n",
       "129302  serious violation    -2.458363\n",
       "110304           priority    -2.451701\n",
       "123247             rodent    -2.405065"
      ]
     },
     "execution_count": 42,
     "metadata": {},
     "output_type": "execute_result"
    }
   ],
   "source": [
    "coefs_with_fns_df.sort_values(by='coefficient', ascending=True, inplace=True)\n",
    "coefs_with_fns_df.head(10)"
   ]
  },
  {
   "cell_type": "markdown",
   "id": "d6e0d71e",
   "metadata": {},
   "source": [
    "### Explain why you selected a particular text pre-processing technique"
   ]
  },
  {
   "cell_type": "markdown",
   "id": "137a7caf",
   "metadata": {},
   "source": [
    "1. Elimination of Stop Words: Commonly occurring words such as \"and\", \"the\", and \"is\" are often excluded from the analysis because they typically don't provide valuable insights for predictive models.\n",
    "\n",
    "2. Exclusion of Numbers and Single Characters: In instances where not every unstructured comment is linked to a specific code (for example, \"4-601.11(C):\"), I ensure uniformity by discarding numbers and individual letters, thereby omitting code references from consideration.\n",
    "\n",
    "3. Token Lemmatization: To achieve uniformity among tokens, I apply lemmatization, which adjusts tokens to their base forms, enhancing their comparability.\n",
    "\n",
    "4. N-grams selection: after hyperparameter pipeline I find that ngram range of (1,2) works better. This may be because that using bigrams (pairs of consecutive words) along with unigrams allows the model to capture more context and the relationship between words, leading to a better understanding of the text's meaning. "
   ]
  },
  {
   "cell_type": "markdown",
   "id": "6ee5b096",
   "metadata": {},
   "source": [
    "#### Build a pipeline with hyperparameter tuning to find out the best n-grams"
   ]
  },
  {
   "cell_type": "code",
   "execution_count": 73,
   "id": "f22c783e",
   "metadata": {},
   "outputs": [
    {
     "data": {
      "text/html": [
       "<style>#sk-container-id-6 {color: black;}#sk-container-id-6 pre{padding: 0;}#sk-container-id-6 div.sk-toggleable {background-color: white;}#sk-container-id-6 label.sk-toggleable__label {cursor: pointer;display: block;width: 100%;margin-bottom: 0;padding: 0.3em;box-sizing: border-box;text-align: center;}#sk-container-id-6 label.sk-toggleable__label-arrow:before {content: \"▸\";float: left;margin-right: 0.25em;color: #696969;}#sk-container-id-6 label.sk-toggleable__label-arrow:hover:before {color: black;}#sk-container-id-6 div.sk-estimator:hover label.sk-toggleable__label-arrow:before {color: black;}#sk-container-id-6 div.sk-toggleable__content {max-height: 0;max-width: 0;overflow: hidden;text-align: left;background-color: #f0f8ff;}#sk-container-id-6 div.sk-toggleable__content pre {margin: 0.2em;color: black;border-radius: 0.25em;background-color: #f0f8ff;}#sk-container-id-6 input.sk-toggleable__control:checked~div.sk-toggleable__content {max-height: 200px;max-width: 100%;overflow: auto;}#sk-container-id-6 input.sk-toggleable__control:checked~label.sk-toggleable__label-arrow:before {content: \"▾\";}#sk-container-id-6 div.sk-estimator input.sk-toggleable__control:checked~label.sk-toggleable__label {background-color: #d4ebff;}#sk-container-id-6 div.sk-label input.sk-toggleable__control:checked~label.sk-toggleable__label {background-color: #d4ebff;}#sk-container-id-6 input.sk-hidden--visually {border: 0;clip: rect(1px 1px 1px 1px);clip: rect(1px, 1px, 1px, 1px);height: 1px;margin: -1px;overflow: hidden;padding: 0;position: absolute;width: 1px;}#sk-container-id-6 div.sk-estimator {font-family: monospace;background-color: #f0f8ff;border: 1px dotted black;border-radius: 0.25em;box-sizing: border-box;margin-bottom: 0.5em;}#sk-container-id-6 div.sk-estimator:hover {background-color: #d4ebff;}#sk-container-id-6 div.sk-parallel-item::after {content: \"\";width: 100%;border-bottom: 1px solid gray;flex-grow: 1;}#sk-container-id-6 div.sk-label:hover label.sk-toggleable__label {background-color: #d4ebff;}#sk-container-id-6 div.sk-serial::before {content: \"\";position: absolute;border-left: 1px solid gray;box-sizing: border-box;top: 0;bottom: 0;left: 50%;z-index: 0;}#sk-container-id-6 div.sk-serial {display: flex;flex-direction: column;align-items: center;background-color: white;padding-right: 0.2em;padding-left: 0.2em;position: relative;}#sk-container-id-6 div.sk-item {position: relative;z-index: 1;}#sk-container-id-6 div.sk-parallel {display: flex;align-items: stretch;justify-content: center;background-color: white;position: relative;}#sk-container-id-6 div.sk-item::before, #sk-container-id-6 div.sk-parallel-item::before {content: \"\";position: absolute;border-left: 1px solid gray;box-sizing: border-box;top: 0;bottom: 0;left: 50%;z-index: -1;}#sk-container-id-6 div.sk-parallel-item {display: flex;flex-direction: column;z-index: 1;position: relative;background-color: white;}#sk-container-id-6 div.sk-parallel-item:first-child::after {align-self: flex-end;width: 50%;}#sk-container-id-6 div.sk-parallel-item:last-child::after {align-self: flex-start;width: 50%;}#sk-container-id-6 div.sk-parallel-item:only-child::after {width: 0;}#sk-container-id-6 div.sk-dashed-wrapped {border: 1px dashed gray;margin: 0 0.4em 0.5em 0.4em;box-sizing: border-box;padding-bottom: 0.4em;background-color: white;}#sk-container-id-6 div.sk-label label {font-family: monospace;font-weight: bold;display: inline-block;line-height: 1.2em;}#sk-container-id-6 div.sk-label-container {text-align: center;}#sk-container-id-6 div.sk-container {/* jupyter's `normalize.less` sets `[hidden] { display: none; }` but bootstrap.min.css set `[hidden] { display: none !important; }` so we also need the `!important` here to be able to override the default hidden behavior on the sphinx rendered scikit-learn.org. See: https://github.com/scikit-learn/scikit-learn/issues/21755 */display: inline-block !important;position: relative;}#sk-container-id-6 div.sk-text-repr-fallback {display: none;}</style><div id=\"sk-container-id-6\" class=\"sk-top-container\"><div class=\"sk-text-repr-fallback\"><pre>Pipeline(steps=[(&#x27;vect&#x27;, CountVectorizer()), (&#x27;clf&#x27;, LogisticRegression())])</pre><b>In a Jupyter environment, please rerun this cell to show the HTML representation or trust the notebook. <br />On GitHub, the HTML representation is unable to render, please try loading this page with nbviewer.org.</b></div><div class=\"sk-container\" hidden><div class=\"sk-item sk-dashed-wrapped\"><div class=\"sk-label-container\"><div class=\"sk-label sk-toggleable\"><input class=\"sk-toggleable__control sk-hidden--visually\" id=\"sk-estimator-id-10\" type=\"checkbox\" ><label for=\"sk-estimator-id-10\" class=\"sk-toggleable__label sk-toggleable__label-arrow\">Pipeline</label><div class=\"sk-toggleable__content\"><pre>Pipeline(steps=[(&#x27;vect&#x27;, CountVectorizer()), (&#x27;clf&#x27;, LogisticRegression())])</pre></div></div></div><div class=\"sk-serial\"><div class=\"sk-item\"><div class=\"sk-estimator sk-toggleable\"><input class=\"sk-toggleable__control sk-hidden--visually\" id=\"sk-estimator-id-11\" type=\"checkbox\" ><label for=\"sk-estimator-id-11\" class=\"sk-toggleable__label sk-toggleable__label-arrow\">CountVectorizer</label><div class=\"sk-toggleable__content\"><pre>CountVectorizer()</pre></div></div></div><div class=\"sk-item\"><div class=\"sk-estimator sk-toggleable\"><input class=\"sk-toggleable__control sk-hidden--visually\" id=\"sk-estimator-id-12\" type=\"checkbox\" ><label for=\"sk-estimator-id-12\" class=\"sk-toggleable__label sk-toggleable__label-arrow\">LogisticRegression</label><div class=\"sk-toggleable__content\"><pre>LogisticRegression()</pre></div></div></div></div></div></div></div>"
      ],
      "text/plain": [
       "Pipeline(steps=[('vect', CountVectorizer()), ('clf', LogisticRegression())])"
      ]
     },
     "execution_count": 73,
     "metadata": {},
     "output_type": "execute_result"
    }
   ],
   "source": [
    "from sklearn.pipeline import Pipeline\n",
    "\n",
    "pipeline = Pipeline(\n",
    "    [\n",
    "        (\"vect\", CountVectorizer()),\n",
    "        (\"clf\", LogisticRegression()),\n",
    "    ]\n",
    ")\n",
    "pipeline"
   ]
  },
  {
   "cell_type": "code",
   "execution_count": 77,
   "id": "8f1a5995",
   "metadata": {},
   "outputs": [],
   "source": [
    "parameter_grid = {\n",
    "    'vect__max_df': (0.2, 0.4, 0.6, 0.8, 1.0),\n",
    "    'vect__min_df': (1, 3, 5, 10),\n",
    "    'vect__ngram_range': ((1, 1), (1, 2)),  # Unigrams or bigrams\n",
    "    'clf__C': np.logspace(-4, 4, 9),  # Inverse of regularization strength\n",
    "    'clf__penalty': ['l1', 'l2'],  # Type of regularization\n",
    "    # 'clf__solver': ['liblinear', 'saga'],  # Solver, might be required if using 'l1' penalty\n",
    "}\n"
   ]
  },
  {
   "cell_type": "code",
   "execution_count": 78,
   "id": "44a4f811",
   "metadata": {},
   "outputs": [
    {
     "name": "stdout",
     "output_type": "stream",
     "text": [
      "Performing grid search...\n",
      "Hyperparameters to be evaluated:\n",
      "{'clf__C': array([1.e-04, 1.e-03, 1.e-02, 1.e-01, 1.e+00, 1.e+01, 1.e+02, 1.e+03,\n",
      "       1.e+04]),\n",
      " 'clf__penalty': ['l1', 'l2'],\n",
      " 'vect__max_df': (0.2, 0.4, 0.6, 0.8, 1.0),\n",
      " 'vect__min_df': (1, 3, 5, 10),\n",
      " 'vect__ngram_range': ((1, 1), (1, 2))}\n"
     ]
    }
   ],
   "source": [
    "from pprint import pprint\n",
    "\n",
    "from sklearn.model_selection import RandomizedSearchCV\n",
    "\n",
    "random_search = RandomizedSearchCV(\n",
    "    estimator=pipeline,\n",
    "    param_distributions=parameter_grid,\n",
    "    n_iter=40,\n",
    "    random_state=0,\n",
    "    n_jobs=2,\n",
    "    verbose=1,\n",
    ")\n",
    "\n",
    "\n",
    "print(\"Performing grid search...\")\n",
    "print(\"Hyperparameters to be evaluated:\")\n",
    "pprint(parameter_grid)"
   ]
  },
  {
   "cell_type": "code",
   "execution_count": 79,
   "id": "aff714b8",
   "metadata": {},
   "outputs": [
    {
     "name": "stdout",
     "output_type": "stream",
     "text": [
      "Fitting 5 folds for each of 40 candidates, totalling 200 fits\n"
     ]
    },
    {
     "name": "stderr",
     "output_type": "stream",
     "text": [
      "D:\\python\\Lib\\site-packages\\sklearn\\model_selection\\_validation.py:425: FitFailedWarning:\n",
      "\n",
      "\n",
      "115 fits failed out of a total of 200.\n",
      "The score on these train-test partitions for these parameters will be set to nan.\n",
      "If these failures are not expected, you can try to debug them by setting error_score='raise'.\n",
      "\n",
      "Below are more details about the failures:\n",
      "--------------------------------------------------------------------------------\n",
      "115 fits failed with the following error:\n",
      "Traceback (most recent call last):\n",
      "  File \"D:\\python\\Lib\\site-packages\\sklearn\\model_selection\\_validation.py\", line 729, in _fit_and_score\n",
      "    estimator.fit(X_train, y_train, **fit_params)\n",
      "  File \"D:\\python\\Lib\\site-packages\\sklearn\\base.py\", line 1152, in wrapper\n",
      "    return fit_method(estimator, *args, **kwargs)\n",
      "  File \"D:\\python\\Lib\\site-packages\\sklearn\\pipeline.py\", line 427, in fit\n",
      "    self._final_estimator.fit(Xt, y, **fit_params_last_step)\n",
      "  File \"D:\\python\\Lib\\site-packages\\sklearn\\base.py\", line 1152, in wrapper\n",
      "    return fit_method(estimator, *args, **kwargs)\n",
      "  File \"D:\\python\\Lib\\site-packages\\sklearn\\linear_model\\_logistic.py\", line 1169, in fit\n",
      "    solver = _check_solver(self.solver, self.penalty, self.dual)\n",
      "  File \"D:\\python\\Lib\\site-packages\\sklearn\\linear_model\\_logistic.py\", line 56, in _check_solver\n",
      "    raise ValueError(\n",
      "ValueError: Solver lbfgs supports only 'l2' or 'none' penalties, got l1 penalty.\n",
      "\n",
      "\n",
      "D:\\python\\Lib\\site-packages\\sklearn\\model_selection\\_search.py:979: UserWarning:\n",
      "\n",
      "One or more of the test scores are non-finite: [       nan        nan        nan 0.9222            nan        nan\n",
      " 0.95833333 0.83526667 0.96753333        nan        nan        nan\n",
      "        nan 0.96006667 0.9544            nan 0.94933333        nan\n",
      " 0.96253333 0.95933333        nan        nan        nan 0.95833333\n",
      "        nan 0.95246667        nan 0.87986667        nan        nan\n",
      "        nan 0.96346667        nan 0.92933333 0.94893333        nan\n",
      "        nan        nan 0.96686667 0.9524    ]\n",
      "\n"
     ]
    },
    {
     "name": "stdout",
     "output_type": "stream",
     "text": [
      "Done in 125.745s\n"
     ]
    },
    {
     "name": "stderr",
     "output_type": "stream",
     "text": [
      "D:\\python\\Lib\\site-packages\\sklearn\\linear_model\\_logistic.py:460: ConvergenceWarning:\n",
      "\n",
      "lbfgs failed to converge (status=1):\n",
      "STOP: TOTAL NO. of ITERATIONS REACHED LIMIT.\n",
      "\n",
      "Increase the number of iterations (max_iter) or scale the data as shown in:\n",
      "    https://scikit-learn.org/stable/modules/preprocessing.html\n",
      "Please also refer to the documentation for alternative solver options:\n",
      "    https://scikit-learn.org/stable/modules/linear_model.html#logistic-regression\n",
      "\n"
     ]
    }
   ],
   "source": [
    "from time import time\n",
    "\n",
    "t0 = time()\n",
    "random_search.fit(X_train, y_train)\n",
    "print(f\"Done in {time() - t0:.3f}s\")"
   ]
  },
  {
   "cell_type": "code",
   "execution_count": 92,
   "id": "e970ac37",
   "metadata": {},
   "outputs": [
    {
     "name": "stdout",
     "output_type": "stream",
     "text": [
      "Best parameters combination found:\n",
      "clf__C: 1.0\n",
      "clf__penalty: l2\n",
      "vect__max_df: 0.4\n",
      "vect__min_df: 1\n",
      "vect__ngram_range: (1, 2)\n"
     ]
    }
   ],
   "source": [
    "print(\"Best parameters combination found:\")\n",
    "best_parameters = random_search.best_estimator_.get_params()\n",
    "for param_name in sorted(parameter_grid.keys()):\n",
    "    print(f\"{param_name}: {best_parameters[param_name]}\")"
   ]
  },
  {
   "cell_type": "code",
   "execution_count": 93,
   "id": "7acbfceb",
   "metadata": {},
   "outputs": [
    {
     "name": "stdout",
     "output_type": "stream",
     "text": [
      "Accuracy of the best parameters using the inner CV of the random search: 0.968\n",
      "Accuracy on test set: 0.972\n"
     ]
    }
   ],
   "source": [
    "test_accuracy = random_search.score(X_test, y_test)\n",
    "\n",
    "print(\n",
    "    \"Accuracy of the best parameters using the inner CV of \"\n",
    "    f\"the random search: {random_search.best_score_:.3f}\"\n",
    ")\n",
    "print(f\"Accuracy on test set: {test_accuracy:.3f}\")"
   ]
  },
  {
   "cell_type": "code",
   "execution_count": 94,
   "id": "81697401",
   "metadata": {},
   "outputs": [],
   "source": [
    "def shorten_param(param_name):\n",
    "    \"\"\"Remove components' prefixes in param_name.\"\"\"\n",
    "    if \"__\" in param_name:\n",
    "        return param_name.rsplit(\"__\", 1)[1]\n",
    "    return param_name\n",
    "\n",
    "\n",
    "cv_results = pd.DataFrame(random_search.cv_results_)\n",
    "cv_results = cv_results.rename(shorten_param, axis=1)"
   ]
  },
  {
   "cell_type": "code",
   "execution_count": 95,
   "id": "ebc900bc",
   "metadata": {},
   "outputs": [
    {
     "data": {
      "application/vnd.plotly.v1+json": {
       "config": {
        "plotlyServerURL": "https://plot.ly"
       },
       "data": [
        {
         "customdata": [
          [
           0.6,
           10,
           [
            1,
            2
           ],
           100,
           "l1"
          ],
          [
           0.2,
           5,
           [
            1,
            2
           ],
           10000,
           "l1"
          ],
          [
           0.2,
           5,
           [
            1,
            2
           ],
           0.1,
           "l1"
          ],
          [
           0.6,
           10,
           [
            1,
            1
           ],
           0.001,
           "l2"
          ],
          [
           0.4,
           5,
           [
            1,
            2
           ],
           100,
           "l1"
          ],
          [
           1,
           10,
           [
            1,
            1
           ],
           1,
           "l1"
          ],
          [
           0.6,
           5,
           [
            1,
            2
           ],
           1000,
           "l2"
          ],
          [
           0.2,
           1,
           [
            1,
            1
           ],
           0.0001,
           "l2"
          ],
          [
           0.4,
           1,
           [
            1,
            2
           ],
           1,
           "l2"
          ],
          [
           0.2,
           5,
           [
            1,
            2
           ],
           0.001,
           "l1"
          ],
          [
           0.4,
           10,
           [
            1,
            2
           ],
           0.01,
           "l1"
          ],
          [
           1,
           5,
           [
            1,
            2
           ],
           100,
           "l1"
          ],
          [
           1,
           1,
           [
            1,
            1
           ],
           1,
           "l1"
          ],
          [
           0.4,
           5,
           [
            1,
            1
           ],
           10,
           "l2"
          ],
          [
           0.4,
           5,
           [
            1,
            2
           ],
           10000,
           "l2"
          ],
          [
           0.4,
           10,
           [
            1,
            1
           ],
           0.0001,
           "l1"
          ],
          [
           0.2,
           10,
           [
            1,
            1
           ],
           1,
           "l2"
          ],
          [
           0.8,
           10,
           [
            1,
            1
           ],
           1000,
           "l1"
          ],
          [
           0.8,
           5,
           [
            1,
            2
           ],
           100,
           "l2"
          ],
          [
           1,
           5,
           [
            1,
            2
           ],
           1000,
           "l2"
          ],
          [
           0.6,
           10,
           [
            1,
            2
           ],
           0.001,
           "l1"
          ],
          [
           0.4,
           10,
           [
            1,
            2
           ],
           100,
           "l1"
          ],
          [
           0.4,
           1,
           [
            1,
            1
           ],
           0.0001,
           "l1"
          ],
          [
           0.6,
           10,
           [
            1,
            2
           ],
           1000,
           "l2"
          ],
          [
           0.6,
           5,
           [
            1,
            2
           ],
           100,
           "l1"
          ],
          [
           0.6,
           5,
           [
            1,
            1
           ],
           1000,
           "l2"
          ],
          [
           0.8,
           3,
           [
            1,
            1
           ],
           1000,
           "l1"
          ],
          [
           0.4,
           10,
           [
            1,
            2
           ],
           0.0001,
           "l2"
          ],
          [
           0.4,
           3,
           [
            1,
            1
           ],
           100,
           "l1"
          ],
          [
           0.8,
           10,
           [
            1,
            2
           ],
           0.0001,
           "l1"
          ],
          [
           0.4,
           3,
           [
            1,
            1
           ],
           0.01,
           "l1"
          ],
          [
           0.8,
           3,
           [
            1,
            2
           ],
           100,
           "l2"
          ],
          [
           0.8,
           1,
           [
            1,
            2
           ],
           10000,
           "l1"
          ],
          [
           0.2,
           3,
           [
            1,
            1
           ],
           0.01,
           "l2"
          ],
          [
           0.2,
           1,
           [
            1,
            1
           ],
           1,
           "l2"
          ],
          [
           0.8,
           5,
           [
            1,
            1
           ],
           0.1,
           "l1"
          ],
          [
           0.2,
           1,
           [
            1,
            2
           ],
           0.0001,
           "l1"
          ],
          [
           0.6,
           10,
           [
            1,
            2
           ],
           1000,
           "l1"
          ],
          [
           1,
           1,
           [
            1,
            2
           ],
           10,
           "l2"
          ],
          [
           0.6,
           10,
           [
            1,
            1
           ],
           1000,
           "l2"
          ]
         ],
         "error_x": {
          "array": [
           0,
           0,
           0,
           0.003927546655666454,
           0,
           0,
           0.015919339901883513,
           0.002311263206157296,
           0.01434810010266044,
           0,
           0,
           0,
           0,
           0.004350282400271242,
           0.01479239855881499,
           0,
           0.00768027135448876,
           0,
           0.01056933688583881,
           0.0037108469547343236,
           0,
           0,
           0,
           0.008929325997699859,
           0,
           0.006790339082826566,
           0,
           0.0036533398220929356,
           0,
           0,
           0,
           0.014438824263656549,
           0,
           0.0026568569572243787,
           0.005102901331002149,
           0,
           0,
           0,
           0.020982416477743203,
           0.005016406181474123
          ]
         },
         "error_y": {
          "array": [
           null,
           null,
           null,
           0.004754413154580112,
           null,
           null,
           0.0024221202832780202,
           0.0046494922064433866,
           0.0024367555843329623,
           null,
           null,
           null,
           null,
           0.0013888444437333207,
           0.0047581509013481064,
           null,
           0.001054092553389449,
           null,
           0.00288752104369438,
           0.003904413457159029,
           null,
           null,
           null,
           0.0023380903889000325,
           null,
           0.001880898130622101,
           null,
           0.004394946593026534,
           null,
           null,
           null,
           0.0015577761927397312,
           null,
           0.004666666666666664,
           0.001830604029032824,
           null,
           null,
           null,
           0.0024458581770458896,
           0.0013564659966250636
          ]
         },
         "hovertemplate": "CV Score time (s)=%{x}<br>CV score (accuracy)=%{y}<br>max_df=%{customdata[0]}<br>min_df=%{customdata[1]}<br>ngram_range=%{customdata[2]}<br>C=%{customdata[3]}<br>penalty=%{customdata[4]}<extra></extra>",
         "legendgroup": "",
         "marker": {
          "color": "#636efa",
          "symbol": "circle"
         },
         "mode": "markers",
         "name": "",
         "orientation": "v",
         "showlegend": false,
         "type": "scatter",
         "x": [
          0,
          0,
          0,
          0.10739164352416992,
          0,
          0,
          0.2686019420623779,
          0.10822901725769044,
          0.2848033428192139,
          0,
          0,
          0,
          0,
          0.11579604148864746,
          0.27900233268737795,
          0,
          0.11679835319519043,
          0,
          0.2741988182067871,
          0.26879568099975587,
          0,
          0,
          0,
          0.2648014545440674,
          0,
          0.11759872436523437,
          0,
          0.2507983684539795,
          0,
          0,
          0,
          0.2722037315368652,
          0,
          0.11619582176208496,
          0.11920547485351562,
          0,
          0,
          0,
          0.30500335693359376,
          0.11600627899169921
         ],
         "xaxis": "x",
         "y": [
          null,
          null,
          null,
          0.9222000000000001,
          null,
          null,
          0.9583333333333334,
          0.8352666666666668,
          0.9675333333333335,
          null,
          null,
          null,
          null,
          0.9600666666666667,
          0.9544,
          null,
          0.9493333333333334,
          null,
          0.9625333333333334,
          0.9593333333333334,
          null,
          null,
          null,
          0.9583333333333334,
          null,
          0.9524666666666667,
          null,
          0.8798666666666668,
          null,
          null,
          null,
          0.9634666666666666,
          null,
          0.9293333333333333,
          0.9489333333333333,
          null,
          null,
          null,
          0.9668666666666667,
          0.9523999999999999
         ],
         "yaxis": "y"
        }
       ],
       "layout": {
        "legend": {
         "tracegroupgap": 0
        },
        "margin": {
         "t": 60
        },
        "template": {
         "data": {
          "bar": [
           {
            "error_x": {
             "color": "#2a3f5f"
            },
            "error_y": {
             "color": "#2a3f5f"
            },
            "marker": {
             "line": {
              "color": "#E5ECF6",
              "width": 0.5
             },
             "pattern": {
              "fillmode": "overlay",
              "size": 10,
              "solidity": 0.2
             }
            },
            "type": "bar"
           }
          ],
          "barpolar": [
           {
            "marker": {
             "line": {
              "color": "#E5ECF6",
              "width": 0.5
             },
             "pattern": {
              "fillmode": "overlay",
              "size": 10,
              "solidity": 0.2
             }
            },
            "type": "barpolar"
           }
          ],
          "carpet": [
           {
            "aaxis": {
             "endlinecolor": "#2a3f5f",
             "gridcolor": "white",
             "linecolor": "white",
             "minorgridcolor": "white",
             "startlinecolor": "#2a3f5f"
            },
            "baxis": {
             "endlinecolor": "#2a3f5f",
             "gridcolor": "white",
             "linecolor": "white",
             "minorgridcolor": "white",
             "startlinecolor": "#2a3f5f"
            },
            "type": "carpet"
           }
          ],
          "choropleth": [
           {
            "colorbar": {
             "outlinewidth": 0,
             "ticks": ""
            },
            "type": "choropleth"
           }
          ],
          "contour": [
           {
            "colorbar": {
             "outlinewidth": 0,
             "ticks": ""
            },
            "colorscale": [
             [
              0,
              "#0d0887"
             ],
             [
              0.1111111111111111,
              "#46039f"
             ],
             [
              0.2222222222222222,
              "#7201a8"
             ],
             [
              0.3333333333333333,
              "#9c179e"
             ],
             [
              0.4444444444444444,
              "#bd3786"
             ],
             [
              0.5555555555555556,
              "#d8576b"
             ],
             [
              0.6666666666666666,
              "#ed7953"
             ],
             [
              0.7777777777777778,
              "#fb9f3a"
             ],
             [
              0.8888888888888888,
              "#fdca26"
             ],
             [
              1,
              "#f0f921"
             ]
            ],
            "type": "contour"
           }
          ],
          "contourcarpet": [
           {
            "colorbar": {
             "outlinewidth": 0,
             "ticks": ""
            },
            "type": "contourcarpet"
           }
          ],
          "heatmap": [
           {
            "colorbar": {
             "outlinewidth": 0,
             "ticks": ""
            },
            "colorscale": [
             [
              0,
              "#0d0887"
             ],
             [
              0.1111111111111111,
              "#46039f"
             ],
             [
              0.2222222222222222,
              "#7201a8"
             ],
             [
              0.3333333333333333,
              "#9c179e"
             ],
             [
              0.4444444444444444,
              "#bd3786"
             ],
             [
              0.5555555555555556,
              "#d8576b"
             ],
             [
              0.6666666666666666,
              "#ed7953"
             ],
             [
              0.7777777777777778,
              "#fb9f3a"
             ],
             [
              0.8888888888888888,
              "#fdca26"
             ],
             [
              1,
              "#f0f921"
             ]
            ],
            "type": "heatmap"
           }
          ],
          "heatmapgl": [
           {
            "colorbar": {
             "outlinewidth": 0,
             "ticks": ""
            },
            "colorscale": [
             [
              0,
              "#0d0887"
             ],
             [
              0.1111111111111111,
              "#46039f"
             ],
             [
              0.2222222222222222,
              "#7201a8"
             ],
             [
              0.3333333333333333,
              "#9c179e"
             ],
             [
              0.4444444444444444,
              "#bd3786"
             ],
             [
              0.5555555555555556,
              "#d8576b"
             ],
             [
              0.6666666666666666,
              "#ed7953"
             ],
             [
              0.7777777777777778,
              "#fb9f3a"
             ],
             [
              0.8888888888888888,
              "#fdca26"
             ],
             [
              1,
              "#f0f921"
             ]
            ],
            "type": "heatmapgl"
           }
          ],
          "histogram": [
           {
            "marker": {
             "pattern": {
              "fillmode": "overlay",
              "size": 10,
              "solidity": 0.2
             }
            },
            "type": "histogram"
           }
          ],
          "histogram2d": [
           {
            "colorbar": {
             "outlinewidth": 0,
             "ticks": ""
            },
            "colorscale": [
             [
              0,
              "#0d0887"
             ],
             [
              0.1111111111111111,
              "#46039f"
             ],
             [
              0.2222222222222222,
              "#7201a8"
             ],
             [
              0.3333333333333333,
              "#9c179e"
             ],
             [
              0.4444444444444444,
              "#bd3786"
             ],
             [
              0.5555555555555556,
              "#d8576b"
             ],
             [
              0.6666666666666666,
              "#ed7953"
             ],
             [
              0.7777777777777778,
              "#fb9f3a"
             ],
             [
              0.8888888888888888,
              "#fdca26"
             ],
             [
              1,
              "#f0f921"
             ]
            ],
            "type": "histogram2d"
           }
          ],
          "histogram2dcontour": [
           {
            "colorbar": {
             "outlinewidth": 0,
             "ticks": ""
            },
            "colorscale": [
             [
              0,
              "#0d0887"
             ],
             [
              0.1111111111111111,
              "#46039f"
             ],
             [
              0.2222222222222222,
              "#7201a8"
             ],
             [
              0.3333333333333333,
              "#9c179e"
             ],
             [
              0.4444444444444444,
              "#bd3786"
             ],
             [
              0.5555555555555556,
              "#d8576b"
             ],
             [
              0.6666666666666666,
              "#ed7953"
             ],
             [
              0.7777777777777778,
              "#fb9f3a"
             ],
             [
              0.8888888888888888,
              "#fdca26"
             ],
             [
              1,
              "#f0f921"
             ]
            ],
            "type": "histogram2dcontour"
           }
          ],
          "mesh3d": [
           {
            "colorbar": {
             "outlinewidth": 0,
             "ticks": ""
            },
            "type": "mesh3d"
           }
          ],
          "parcoords": [
           {
            "line": {
             "colorbar": {
              "outlinewidth": 0,
              "ticks": ""
             }
            },
            "type": "parcoords"
           }
          ],
          "pie": [
           {
            "automargin": true,
            "type": "pie"
           }
          ],
          "scatter": [
           {
            "fillpattern": {
             "fillmode": "overlay",
             "size": 10,
             "solidity": 0.2
            },
            "type": "scatter"
           }
          ],
          "scatter3d": [
           {
            "line": {
             "colorbar": {
              "outlinewidth": 0,
              "ticks": ""
             }
            },
            "marker": {
             "colorbar": {
              "outlinewidth": 0,
              "ticks": ""
             }
            },
            "type": "scatter3d"
           }
          ],
          "scattercarpet": [
           {
            "marker": {
             "colorbar": {
              "outlinewidth": 0,
              "ticks": ""
             }
            },
            "type": "scattercarpet"
           }
          ],
          "scattergeo": [
           {
            "marker": {
             "colorbar": {
              "outlinewidth": 0,
              "ticks": ""
             }
            },
            "type": "scattergeo"
           }
          ],
          "scattergl": [
           {
            "marker": {
             "colorbar": {
              "outlinewidth": 0,
              "ticks": ""
             }
            },
            "type": "scattergl"
           }
          ],
          "scattermapbox": [
           {
            "marker": {
             "colorbar": {
              "outlinewidth": 0,
              "ticks": ""
             }
            },
            "type": "scattermapbox"
           }
          ],
          "scatterpolar": [
           {
            "marker": {
             "colorbar": {
              "outlinewidth": 0,
              "ticks": ""
             }
            },
            "type": "scatterpolar"
           }
          ],
          "scatterpolargl": [
           {
            "marker": {
             "colorbar": {
              "outlinewidth": 0,
              "ticks": ""
             }
            },
            "type": "scatterpolargl"
           }
          ],
          "scatterternary": [
           {
            "marker": {
             "colorbar": {
              "outlinewidth": 0,
              "ticks": ""
             }
            },
            "type": "scatterternary"
           }
          ],
          "surface": [
           {
            "colorbar": {
             "outlinewidth": 0,
             "ticks": ""
            },
            "colorscale": [
             [
              0,
              "#0d0887"
             ],
             [
              0.1111111111111111,
              "#46039f"
             ],
             [
              0.2222222222222222,
              "#7201a8"
             ],
             [
              0.3333333333333333,
              "#9c179e"
             ],
             [
              0.4444444444444444,
              "#bd3786"
             ],
             [
              0.5555555555555556,
              "#d8576b"
             ],
             [
              0.6666666666666666,
              "#ed7953"
             ],
             [
              0.7777777777777778,
              "#fb9f3a"
             ],
             [
              0.8888888888888888,
              "#fdca26"
             ],
             [
              1,
              "#f0f921"
             ]
            ],
            "type": "surface"
           }
          ],
          "table": [
           {
            "cells": {
             "fill": {
              "color": "#EBF0F8"
             },
             "line": {
              "color": "white"
             }
            },
            "header": {
             "fill": {
              "color": "#C8D4E3"
             },
             "line": {
              "color": "white"
             }
            },
            "type": "table"
           }
          ]
         },
         "layout": {
          "annotationdefaults": {
           "arrowcolor": "#2a3f5f",
           "arrowhead": 0,
           "arrowwidth": 1
          },
          "autotypenumbers": "strict",
          "coloraxis": {
           "colorbar": {
            "outlinewidth": 0,
            "ticks": ""
           }
          },
          "colorscale": {
           "diverging": [
            [
             0,
             "#8e0152"
            ],
            [
             0.1,
             "#c51b7d"
            ],
            [
             0.2,
             "#de77ae"
            ],
            [
             0.3,
             "#f1b6da"
            ],
            [
             0.4,
             "#fde0ef"
            ],
            [
             0.5,
             "#f7f7f7"
            ],
            [
             0.6,
             "#e6f5d0"
            ],
            [
             0.7,
             "#b8e186"
            ],
            [
             0.8,
             "#7fbc41"
            ],
            [
             0.9,
             "#4d9221"
            ],
            [
             1,
             "#276419"
            ]
           ],
           "sequential": [
            [
             0,
             "#0d0887"
            ],
            [
             0.1111111111111111,
             "#46039f"
            ],
            [
             0.2222222222222222,
             "#7201a8"
            ],
            [
             0.3333333333333333,
             "#9c179e"
            ],
            [
             0.4444444444444444,
             "#bd3786"
            ],
            [
             0.5555555555555556,
             "#d8576b"
            ],
            [
             0.6666666666666666,
             "#ed7953"
            ],
            [
             0.7777777777777778,
             "#fb9f3a"
            ],
            [
             0.8888888888888888,
             "#fdca26"
            ],
            [
             1,
             "#f0f921"
            ]
           ],
           "sequentialminus": [
            [
             0,
             "#0d0887"
            ],
            [
             0.1111111111111111,
             "#46039f"
            ],
            [
             0.2222222222222222,
             "#7201a8"
            ],
            [
             0.3333333333333333,
             "#9c179e"
            ],
            [
             0.4444444444444444,
             "#bd3786"
            ],
            [
             0.5555555555555556,
             "#d8576b"
            ],
            [
             0.6666666666666666,
             "#ed7953"
            ],
            [
             0.7777777777777778,
             "#fb9f3a"
            ],
            [
             0.8888888888888888,
             "#fdca26"
            ],
            [
             1,
             "#f0f921"
            ]
           ]
          },
          "colorway": [
           "#636efa",
           "#EF553B",
           "#00cc96",
           "#ab63fa",
           "#FFA15A",
           "#19d3f3",
           "#FF6692",
           "#B6E880",
           "#FF97FF",
           "#FECB52"
          ],
          "font": {
           "color": "#2a3f5f"
          },
          "geo": {
           "bgcolor": "white",
           "lakecolor": "white",
           "landcolor": "#E5ECF6",
           "showlakes": true,
           "showland": true,
           "subunitcolor": "white"
          },
          "hoverlabel": {
           "align": "left"
          },
          "hovermode": "closest",
          "mapbox": {
           "style": "light"
          },
          "paper_bgcolor": "white",
          "plot_bgcolor": "#E5ECF6",
          "polar": {
           "angularaxis": {
            "gridcolor": "white",
            "linecolor": "white",
            "ticks": ""
           },
           "bgcolor": "#E5ECF6",
           "radialaxis": {
            "gridcolor": "white",
            "linecolor": "white",
            "ticks": ""
           }
          },
          "scene": {
           "xaxis": {
            "backgroundcolor": "#E5ECF6",
            "gridcolor": "white",
            "gridwidth": 2,
            "linecolor": "white",
            "showbackground": true,
            "ticks": "",
            "zerolinecolor": "white"
           },
           "yaxis": {
            "backgroundcolor": "#E5ECF6",
            "gridcolor": "white",
            "gridwidth": 2,
            "linecolor": "white",
            "showbackground": true,
            "ticks": "",
            "zerolinecolor": "white"
           },
           "zaxis": {
            "backgroundcolor": "#E5ECF6",
            "gridcolor": "white",
            "gridwidth": 2,
            "linecolor": "white",
            "showbackground": true,
            "ticks": "",
            "zerolinecolor": "white"
           }
          },
          "shapedefaults": {
           "line": {
            "color": "#2a3f5f"
           }
          },
          "ternary": {
           "aaxis": {
            "gridcolor": "white",
            "linecolor": "white",
            "ticks": ""
           },
           "baxis": {
            "gridcolor": "white",
            "linecolor": "white",
            "ticks": ""
           },
           "bgcolor": "#E5ECF6",
           "caxis": {
            "gridcolor": "white",
            "linecolor": "white",
            "ticks": ""
           }
          },
          "title": {
           "x": 0.05
          },
          "xaxis": {
           "automargin": true,
           "gridcolor": "white",
           "linecolor": "white",
           "ticks": "",
           "title": {
            "standoff": 15
           },
           "zerolinecolor": "white",
           "zerolinewidth": 2
          },
          "yaxis": {
           "automargin": true,
           "gridcolor": "white",
           "linecolor": "white",
           "ticks": "",
           "title": {
            "standoff": 15
           },
           "zerolinecolor": "white",
           "zerolinewidth": 2
          }
         }
        },
        "title": {
         "text": "trade-off between scoring time and mean test score",
         "x": 0.5,
         "xanchor": "center",
         "y": 0.95,
         "yanchor": "top"
        },
        "xaxis": {
         "anchor": "y",
         "domain": [
          0,
          1
         ],
         "title": {
          "text": "CV Score time (s)"
         }
        },
        "yaxis": {
         "anchor": "x",
         "domain": [
          0,
          1
         ],
         "title": {
          "text": "CV score (accuracy)"
         }
        }
       }
      },
      "text/html": [
       "<div>                            <div id=\"0dbcaaeb-7456-44d7-bd24-968c22b2998d\" class=\"plotly-graph-div\" style=\"height:525px; width:100%;\"></div>            <script type=\"text/javascript\">                require([\"plotly\"], function(Plotly) {                    window.PLOTLYENV=window.PLOTLYENV || {};                                    if (document.getElementById(\"0dbcaaeb-7456-44d7-bd24-968c22b2998d\")) {                    Plotly.newPlot(                        \"0dbcaaeb-7456-44d7-bd24-968c22b2998d\",                        [{\"customdata\":[[0.6,10,[1,2],100.0,\"l1\"],[0.2,5,[1,2],10000.0,\"l1\"],[0.2,5,[1,2],0.1,\"l1\"],[0.6,10,[1,1],0.001,\"l2\"],[0.4,5,[1,2],100.0,\"l1\"],[1.0,10,[1,1],1.0,\"l1\"],[0.6,5,[1,2],1000.0,\"l2\"],[0.2,1,[1,1],0.0001,\"l2\"],[0.4,1,[1,2],1.0,\"l2\"],[0.2,5,[1,2],0.001,\"l1\"],[0.4,10,[1,2],0.01,\"l1\"],[1.0,5,[1,2],100.0,\"l1\"],[1.0,1,[1,1],1.0,\"l1\"],[0.4,5,[1,1],10.0,\"l2\"],[0.4,5,[1,2],10000.0,\"l2\"],[0.4,10,[1,1],0.0001,\"l1\"],[0.2,10,[1,1],1.0,\"l2\"],[0.8,10,[1,1],1000.0,\"l1\"],[0.8,5,[1,2],100.0,\"l2\"],[1.0,5,[1,2],1000.0,\"l2\"],[0.6,10,[1,2],0.001,\"l1\"],[0.4,10,[1,2],100.0,\"l1\"],[0.4,1,[1,1],0.0001,\"l1\"],[0.6,10,[1,2],1000.0,\"l2\"],[0.6,5,[1,2],100.0,\"l1\"],[0.6,5,[1,1],1000.0,\"l2\"],[0.8,3,[1,1],1000.0,\"l1\"],[0.4,10,[1,2],0.0001,\"l2\"],[0.4,3,[1,1],100.0,\"l1\"],[0.8,10,[1,2],0.0001,\"l1\"],[0.4,3,[1,1],0.01,\"l1\"],[0.8,3,[1,2],100.0,\"l2\"],[0.8,1,[1,2],10000.0,\"l1\"],[0.2,3,[1,1],0.01,\"l2\"],[0.2,1,[1,1],1.0,\"l2\"],[0.8,5,[1,1],0.1,\"l1\"],[0.2,1,[1,2],0.0001,\"l1\"],[0.6,10,[1,2],1000.0,\"l1\"],[1.0,1,[1,2],10.0,\"l2\"],[0.6,10,[1,1],1000.0,\"l2\"]],\"error_x\":{\"array\":[0.0,0.0,0.0,0.003927546655666454,0.0,0.0,0.015919339901883513,0.002311263206157296,0.01434810010266044,0.0,0.0,0.0,0.0,0.004350282400271242,0.01479239855881499,0.0,0.00768027135448876,0.0,0.01056933688583881,0.0037108469547343236,0.0,0.0,0.0,0.008929325997699859,0.0,0.006790339082826566,0.0,0.0036533398220929356,0.0,0.0,0.0,0.014438824263656549,0.0,0.0026568569572243787,0.005102901331002149,0.0,0.0,0.0,0.020982416477743203,0.005016406181474123]},\"error_y\":{\"array\":[null,null,null,0.004754413154580112,null,null,0.0024221202832780202,0.0046494922064433866,0.0024367555843329623,null,null,null,null,0.0013888444437333207,0.0047581509013481064,null,0.001054092553389449,null,0.00288752104369438,0.003904413457159029,null,null,null,0.0023380903889000325,null,0.001880898130622101,null,0.004394946593026534,null,null,null,0.0015577761927397312,null,0.004666666666666664,0.001830604029032824,null,null,null,0.0024458581770458896,0.0013564659966250636]},\"hovertemplate\":\"CV Score time (s)=%{x}<br>CV score (accuracy)=%{y}<br>max_df=%{customdata[0]}<br>min_df=%{customdata[1]}<br>ngram_range=%{customdata[2]}<br>C=%{customdata[3]}<br>penalty=%{customdata[4]}<extra></extra>\",\"legendgroup\":\"\",\"marker\":{\"color\":\"#636efa\",\"symbol\":\"circle\"},\"mode\":\"markers\",\"name\":\"\",\"orientation\":\"v\",\"showlegend\":false,\"x\":[0.0,0.0,0.0,0.10739164352416992,0.0,0.0,0.2686019420623779,0.10822901725769044,0.2848033428192139,0.0,0.0,0.0,0.0,0.11579604148864746,0.27900233268737795,0.0,0.11679835319519043,0.0,0.2741988182067871,0.26879568099975587,0.0,0.0,0.0,0.2648014545440674,0.0,0.11759872436523437,0.0,0.2507983684539795,0.0,0.0,0.0,0.2722037315368652,0.0,0.11619582176208496,0.11920547485351562,0.0,0.0,0.0,0.30500335693359376,0.11600627899169921],\"xaxis\":\"x\",\"y\":[null,null,null,0.9222000000000001,null,null,0.9583333333333334,0.8352666666666668,0.9675333333333335,null,null,null,null,0.9600666666666667,0.9544,null,0.9493333333333334,null,0.9625333333333334,0.9593333333333334,null,null,null,0.9583333333333334,null,0.9524666666666667,null,0.8798666666666668,null,null,null,0.9634666666666666,null,0.9293333333333333,0.9489333333333333,null,null,null,0.9668666666666667,0.9523999999999999],\"yaxis\":\"y\",\"type\":\"scatter\"}],                        {\"template\":{\"data\":{\"histogram2dcontour\":[{\"type\":\"histogram2dcontour\",\"colorbar\":{\"outlinewidth\":0,\"ticks\":\"\"},\"colorscale\":[[0.0,\"#0d0887\"],[0.1111111111111111,\"#46039f\"],[0.2222222222222222,\"#7201a8\"],[0.3333333333333333,\"#9c179e\"],[0.4444444444444444,\"#bd3786\"],[0.5555555555555556,\"#d8576b\"],[0.6666666666666666,\"#ed7953\"],[0.7777777777777778,\"#fb9f3a\"],[0.8888888888888888,\"#fdca26\"],[1.0,\"#f0f921\"]]}],\"choropleth\":[{\"type\":\"choropleth\",\"colorbar\":{\"outlinewidth\":0,\"ticks\":\"\"}}],\"histogram2d\":[{\"type\":\"histogram2d\",\"colorbar\":{\"outlinewidth\":0,\"ticks\":\"\"},\"colorscale\":[[0.0,\"#0d0887\"],[0.1111111111111111,\"#46039f\"],[0.2222222222222222,\"#7201a8\"],[0.3333333333333333,\"#9c179e\"],[0.4444444444444444,\"#bd3786\"],[0.5555555555555556,\"#d8576b\"],[0.6666666666666666,\"#ed7953\"],[0.7777777777777778,\"#fb9f3a\"],[0.8888888888888888,\"#fdca26\"],[1.0,\"#f0f921\"]]}],\"heatmap\":[{\"type\":\"heatmap\",\"colorbar\":{\"outlinewidth\":0,\"ticks\":\"\"},\"colorscale\":[[0.0,\"#0d0887\"],[0.1111111111111111,\"#46039f\"],[0.2222222222222222,\"#7201a8\"],[0.3333333333333333,\"#9c179e\"],[0.4444444444444444,\"#bd3786\"],[0.5555555555555556,\"#d8576b\"],[0.6666666666666666,\"#ed7953\"],[0.7777777777777778,\"#fb9f3a\"],[0.8888888888888888,\"#fdca26\"],[1.0,\"#f0f921\"]]}],\"heatmapgl\":[{\"type\":\"heatmapgl\",\"colorbar\":{\"outlinewidth\":0,\"ticks\":\"\"},\"colorscale\":[[0.0,\"#0d0887\"],[0.1111111111111111,\"#46039f\"],[0.2222222222222222,\"#7201a8\"],[0.3333333333333333,\"#9c179e\"],[0.4444444444444444,\"#bd3786\"],[0.5555555555555556,\"#d8576b\"],[0.6666666666666666,\"#ed7953\"],[0.7777777777777778,\"#fb9f3a\"],[0.8888888888888888,\"#fdca26\"],[1.0,\"#f0f921\"]]}],\"contourcarpet\":[{\"type\":\"contourcarpet\",\"colorbar\":{\"outlinewidth\":0,\"ticks\":\"\"}}],\"contour\":[{\"type\":\"contour\",\"colorbar\":{\"outlinewidth\":0,\"ticks\":\"\"},\"colorscale\":[[0.0,\"#0d0887\"],[0.1111111111111111,\"#46039f\"],[0.2222222222222222,\"#7201a8\"],[0.3333333333333333,\"#9c179e\"],[0.4444444444444444,\"#bd3786\"],[0.5555555555555556,\"#d8576b\"],[0.6666666666666666,\"#ed7953\"],[0.7777777777777778,\"#fb9f3a\"],[0.8888888888888888,\"#fdca26\"],[1.0,\"#f0f921\"]]}],\"surface\":[{\"type\":\"surface\",\"colorbar\":{\"outlinewidth\":0,\"ticks\":\"\"},\"colorscale\":[[0.0,\"#0d0887\"],[0.1111111111111111,\"#46039f\"],[0.2222222222222222,\"#7201a8\"],[0.3333333333333333,\"#9c179e\"],[0.4444444444444444,\"#bd3786\"],[0.5555555555555556,\"#d8576b\"],[0.6666666666666666,\"#ed7953\"],[0.7777777777777778,\"#fb9f3a\"],[0.8888888888888888,\"#fdca26\"],[1.0,\"#f0f921\"]]}],\"mesh3d\":[{\"type\":\"mesh3d\",\"colorbar\":{\"outlinewidth\":0,\"ticks\":\"\"}}],\"scatter\":[{\"fillpattern\":{\"fillmode\":\"overlay\",\"size\":10,\"solidity\":0.2},\"type\":\"scatter\"}],\"parcoords\":[{\"type\":\"parcoords\",\"line\":{\"colorbar\":{\"outlinewidth\":0,\"ticks\":\"\"}}}],\"scatterpolargl\":[{\"type\":\"scatterpolargl\",\"marker\":{\"colorbar\":{\"outlinewidth\":0,\"ticks\":\"\"}}}],\"bar\":[{\"error_x\":{\"color\":\"#2a3f5f\"},\"error_y\":{\"color\":\"#2a3f5f\"},\"marker\":{\"line\":{\"color\":\"#E5ECF6\",\"width\":0.5},\"pattern\":{\"fillmode\":\"overlay\",\"size\":10,\"solidity\":0.2}},\"type\":\"bar\"}],\"scattergeo\":[{\"type\":\"scattergeo\",\"marker\":{\"colorbar\":{\"outlinewidth\":0,\"ticks\":\"\"}}}],\"scatterpolar\":[{\"type\":\"scatterpolar\",\"marker\":{\"colorbar\":{\"outlinewidth\":0,\"ticks\":\"\"}}}],\"histogram\":[{\"marker\":{\"pattern\":{\"fillmode\":\"overlay\",\"size\":10,\"solidity\":0.2}},\"type\":\"histogram\"}],\"scattergl\":[{\"type\":\"scattergl\",\"marker\":{\"colorbar\":{\"outlinewidth\":0,\"ticks\":\"\"}}}],\"scatter3d\":[{\"type\":\"scatter3d\",\"line\":{\"colorbar\":{\"outlinewidth\":0,\"ticks\":\"\"}},\"marker\":{\"colorbar\":{\"outlinewidth\":0,\"ticks\":\"\"}}}],\"scattermapbox\":[{\"type\":\"scattermapbox\",\"marker\":{\"colorbar\":{\"outlinewidth\":0,\"ticks\":\"\"}}}],\"scatterternary\":[{\"type\":\"scatterternary\",\"marker\":{\"colorbar\":{\"outlinewidth\":0,\"ticks\":\"\"}}}],\"scattercarpet\":[{\"type\":\"scattercarpet\",\"marker\":{\"colorbar\":{\"outlinewidth\":0,\"ticks\":\"\"}}}],\"carpet\":[{\"aaxis\":{\"endlinecolor\":\"#2a3f5f\",\"gridcolor\":\"white\",\"linecolor\":\"white\",\"minorgridcolor\":\"white\",\"startlinecolor\":\"#2a3f5f\"},\"baxis\":{\"endlinecolor\":\"#2a3f5f\",\"gridcolor\":\"white\",\"linecolor\":\"white\",\"minorgridcolor\":\"white\",\"startlinecolor\":\"#2a3f5f\"},\"type\":\"carpet\"}],\"table\":[{\"cells\":{\"fill\":{\"color\":\"#EBF0F8\"},\"line\":{\"color\":\"white\"}},\"header\":{\"fill\":{\"color\":\"#C8D4E3\"},\"line\":{\"color\":\"white\"}},\"type\":\"table\"}],\"barpolar\":[{\"marker\":{\"line\":{\"color\":\"#E5ECF6\",\"width\":0.5},\"pattern\":{\"fillmode\":\"overlay\",\"size\":10,\"solidity\":0.2}},\"type\":\"barpolar\"}],\"pie\":[{\"automargin\":true,\"type\":\"pie\"}]},\"layout\":{\"autotypenumbers\":\"strict\",\"colorway\":[\"#636efa\",\"#EF553B\",\"#00cc96\",\"#ab63fa\",\"#FFA15A\",\"#19d3f3\",\"#FF6692\",\"#B6E880\",\"#FF97FF\",\"#FECB52\"],\"font\":{\"color\":\"#2a3f5f\"},\"hovermode\":\"closest\",\"hoverlabel\":{\"align\":\"left\"},\"paper_bgcolor\":\"white\",\"plot_bgcolor\":\"#E5ECF6\",\"polar\":{\"bgcolor\":\"#E5ECF6\",\"angularaxis\":{\"gridcolor\":\"white\",\"linecolor\":\"white\",\"ticks\":\"\"},\"radialaxis\":{\"gridcolor\":\"white\",\"linecolor\":\"white\",\"ticks\":\"\"}},\"ternary\":{\"bgcolor\":\"#E5ECF6\",\"aaxis\":{\"gridcolor\":\"white\",\"linecolor\":\"white\",\"ticks\":\"\"},\"baxis\":{\"gridcolor\":\"white\",\"linecolor\":\"white\",\"ticks\":\"\"},\"caxis\":{\"gridcolor\":\"white\",\"linecolor\":\"white\",\"ticks\":\"\"}},\"coloraxis\":{\"colorbar\":{\"outlinewidth\":0,\"ticks\":\"\"}},\"colorscale\":{\"sequential\":[[0.0,\"#0d0887\"],[0.1111111111111111,\"#46039f\"],[0.2222222222222222,\"#7201a8\"],[0.3333333333333333,\"#9c179e\"],[0.4444444444444444,\"#bd3786\"],[0.5555555555555556,\"#d8576b\"],[0.6666666666666666,\"#ed7953\"],[0.7777777777777778,\"#fb9f3a\"],[0.8888888888888888,\"#fdca26\"],[1.0,\"#f0f921\"]],\"sequentialminus\":[[0.0,\"#0d0887\"],[0.1111111111111111,\"#46039f\"],[0.2222222222222222,\"#7201a8\"],[0.3333333333333333,\"#9c179e\"],[0.4444444444444444,\"#bd3786\"],[0.5555555555555556,\"#d8576b\"],[0.6666666666666666,\"#ed7953\"],[0.7777777777777778,\"#fb9f3a\"],[0.8888888888888888,\"#fdca26\"],[1.0,\"#f0f921\"]],\"diverging\":[[0,\"#8e0152\"],[0.1,\"#c51b7d\"],[0.2,\"#de77ae\"],[0.3,\"#f1b6da\"],[0.4,\"#fde0ef\"],[0.5,\"#f7f7f7\"],[0.6,\"#e6f5d0\"],[0.7,\"#b8e186\"],[0.8,\"#7fbc41\"],[0.9,\"#4d9221\"],[1,\"#276419\"]]},\"xaxis\":{\"gridcolor\":\"white\",\"linecolor\":\"white\",\"ticks\":\"\",\"title\":{\"standoff\":15},\"zerolinecolor\":\"white\",\"automargin\":true,\"zerolinewidth\":2},\"yaxis\":{\"gridcolor\":\"white\",\"linecolor\":\"white\",\"ticks\":\"\",\"title\":{\"standoff\":15},\"zerolinecolor\":\"white\",\"automargin\":true,\"zerolinewidth\":2},\"scene\":{\"xaxis\":{\"backgroundcolor\":\"#E5ECF6\",\"gridcolor\":\"white\",\"linecolor\":\"white\",\"showbackground\":true,\"ticks\":\"\",\"zerolinecolor\":\"white\",\"gridwidth\":2},\"yaxis\":{\"backgroundcolor\":\"#E5ECF6\",\"gridcolor\":\"white\",\"linecolor\":\"white\",\"showbackground\":true,\"ticks\":\"\",\"zerolinecolor\":\"white\",\"gridwidth\":2},\"zaxis\":{\"backgroundcolor\":\"#E5ECF6\",\"gridcolor\":\"white\",\"linecolor\":\"white\",\"showbackground\":true,\"ticks\":\"\",\"zerolinecolor\":\"white\",\"gridwidth\":2}},\"shapedefaults\":{\"line\":{\"color\":\"#2a3f5f\"}},\"annotationdefaults\":{\"arrowcolor\":\"#2a3f5f\",\"arrowhead\":0,\"arrowwidth\":1},\"geo\":{\"bgcolor\":\"white\",\"landcolor\":\"#E5ECF6\",\"subunitcolor\":\"white\",\"showland\":true,\"showlakes\":true,\"lakecolor\":\"white\"},\"title\":{\"x\":0.05},\"mapbox\":{\"style\":\"light\"}}},\"xaxis\":{\"anchor\":\"y\",\"domain\":[0.0,1.0],\"title\":{\"text\":\"CV Score time (s)\"}},\"yaxis\":{\"anchor\":\"x\",\"domain\":[0.0,1.0],\"title\":{\"text\":\"CV score (accuracy)\"}},\"legend\":{\"tracegroupgap\":0},\"margin\":{\"t\":60},\"title\":{\"text\":\"trade-off between scoring time and mean test score\",\"y\":0.95,\"x\":0.5,\"xanchor\":\"center\",\"yanchor\":\"top\"}},                        {\"responsive\": true}                    ).then(function(){\n",
       "                            \n",
       "var gd = document.getElementById('0dbcaaeb-7456-44d7-bd24-968c22b2998d');\n",
       "var x = new MutationObserver(function (mutations, observer) {{\n",
       "        var display = window.getComputedStyle(gd).display;\n",
       "        if (!display || display === 'none') {{\n",
       "            console.log([gd, 'removed!']);\n",
       "            Plotly.purge(gd);\n",
       "            observer.disconnect();\n",
       "        }}\n",
       "}});\n",
       "\n",
       "// Listen for the removal of the full notebook cells\n",
       "var notebookContainer = gd.closest('#notebook-container');\n",
       "if (notebookContainer) {{\n",
       "    x.observe(notebookContainer, {childList: true});\n",
       "}}\n",
       "\n",
       "// Listen for the clearing of the current output cell\n",
       "var outputEl = gd.closest('.output');\n",
       "if (outputEl) {{\n",
       "    x.observe(outputEl, {childList: true});\n",
       "}}\n",
       "\n",
       "                        })                };                });            </script>        </div>"
      ]
     },
     "metadata": {},
     "output_type": "display_data"
    }
   ],
   "source": [
    "import plotly.express as px\n",
    "\n",
    "param_names = [shorten_param(name) for name in parameter_grid.keys()]\n",
    "labels = {\n",
    "    \"mean_score_time\": \"CV Score time (s)\",\n",
    "    \"mean_test_score\": \"CV score (accuracy)\",\n",
    "}\n",
    "fig = px.scatter(\n",
    "    cv_results,\n",
    "    x=\"mean_score_time\",\n",
    "    y=\"mean_test_score\",\n",
    "    error_x=\"std_score_time\",\n",
    "    error_y=\"std_test_score\",\n",
    "    hover_data=param_names,\n",
    "    labels=labels,\n",
    ")\n",
    "fig.update_layout(\n",
    "    title={\n",
    "        \"text\": \"trade-off between scoring time and mean test score\",\n",
    "        \"y\": 0.95,\n",
    "        \"x\": 0.5,\n",
    "        \"xanchor\": \"center\",\n",
    "        \"yanchor\": \"top\",\n",
    "    }\n",
    ")\n",
    "fig"
   ]
  },
  {
   "cell_type": "code",
   "execution_count": 97,
   "id": "f0f35062",
   "metadata": {},
   "outputs": [
    {
     "data": {
      "application/vnd.plotly.v1+json": {
       "config": {
        "plotlyServerURL": "https://plot.ly"
       },
       "data": [
        {
         "dimensions": [
          {
           "label": "max_df",
           "values": [
            0.6,
            0.2,
            0.2,
            0.6,
            0.4,
            1,
            0.6,
            0.2,
            0.4,
            0.2,
            0.4,
            1,
            1,
            0.4,
            0.4,
            0.4,
            0.2,
            0.8,
            0.8,
            1,
            0.6,
            0.4,
            0.4,
            0.6,
            0.6,
            0.6,
            0.8,
            0.4,
            0.4,
            0.8,
            0.4,
            0.8,
            0.8,
            0.2,
            0.2,
            0.8,
            0.2,
            0.6,
            1,
            0.6
           ]
          },
          {
           "label": "min_df",
           "values": [
            10,
            5,
            5,
            10,
            5,
            10,
            5,
            1,
            1,
            5,
            10,
            5,
            1,
            5,
            5,
            10,
            10,
            10,
            5,
            5,
            10,
            10,
            1,
            10,
            5,
            5,
            3,
            10,
            3,
            10,
            3,
            3,
            1,
            3,
            1,
            5,
            1,
            10,
            1,
            10
           ]
          },
          {
           "label": "ngram_range",
           "values": [
            2,
            2,
            2,
            1,
            2,
            1,
            2,
            1,
            2,
            2,
            2,
            2,
            1,
            1,
            2,
            1,
            1,
            1,
            2,
            2,
            2,
            2,
            1,
            2,
            2,
            1,
            1,
            2,
            1,
            2,
            1,
            2,
            2,
            1,
            1,
            1,
            2,
            2,
            2,
            1
           ]
          },
          {
           "label": "C",
           "values": [
            100,
            10000,
            0.1,
            0.001,
            100,
            1,
            1000,
            0.0001,
            1,
            0.001,
            0.01,
            100,
            1,
            10,
            10000,
            0.0001,
            1,
            1000,
            100,
            1000,
            0.001,
            100,
            0.0001,
            1000,
            100,
            1000,
            1000,
            0.0001,
            100,
            0.0001,
            0.01,
            100,
            10000,
            0.01,
            1,
            0.1,
            0.0001,
            1000,
            10,
            1000
           ]
          },
          {
           "label": "CV score (accuracy)",
           "values": [
            null,
            null,
            null,
            0.9222000000000001,
            null,
            null,
            0.9583333333333334,
            0.8352666666666668,
            0.9675333333333335,
            null,
            null,
            null,
            null,
            0.9600666666666667,
            0.9544,
            null,
            0.9493333333333334,
            null,
            0.9625333333333334,
            0.9593333333333334,
            null,
            null,
            null,
            0.9583333333333334,
            null,
            0.9524666666666667,
            null,
            0.8798666666666668,
            null,
            null,
            null,
            0.9634666666666666,
            null,
            0.9293333333333333,
            0.9489333333333333,
            null,
            null,
            null,
            0.9668666666666667,
            0.9523999999999999
           ]
          },
          {
           "label": "CV Score time (s)",
           "values": [
            0,
            0,
            0,
            0.10739164352416992,
            0,
            0,
            0.2686019420623779,
            0.10822901725769044,
            0.2848033428192139,
            0,
            0,
            0,
            0,
            0.11579604148864746,
            0.27900233268737795,
            0,
            0.11679835319519043,
            0,
            0.2741988182067871,
            0.26879568099975587,
            0,
            0,
            0,
            0.2648014545440674,
            0,
            0.11759872436523437,
            0,
            0.2507983684539795,
            0,
            0,
            0,
            0.2722037315368652,
            0,
            0.11619582176208496,
            0.11920547485351562,
            0,
            0,
            0,
            0.30500335693359376,
            0.11600627899169921
           ]
          }
         ],
         "domain": {
          "x": [
           0,
           1
          ],
          "y": [
           0,
           1
          ]
         },
         "line": {
          "color": [
           null,
           null,
           null,
           0.9222000000000001,
           null,
           null,
           0.9583333333333334,
           0.8352666666666668,
           0.9675333333333335,
           null,
           null,
           null,
           null,
           0.9600666666666667,
           0.9544,
           null,
           0.9493333333333334,
           null,
           0.9625333333333334,
           0.9593333333333334,
           null,
           null,
           null,
           0.9583333333333334,
           null,
           0.9524666666666667,
           null,
           0.8798666666666668,
           null,
           null,
           null,
           0.9634666666666666,
           null,
           0.9293333333333333,
           0.9489333333333333,
           null,
           null,
           null,
           0.9668666666666667,
           0.9523999999999999
          ],
          "coloraxis": "coloraxis"
         },
         "name": "",
         "type": "parcoords"
        }
       ],
       "layout": {
        "coloraxis": {
         "colorbar": {
          "title": {
           "text": "CV score (accuracy)"
          }
         },
         "colorscale": [
          [
           0,
           "#fde725"
          ],
          [
           0.1111111111111111,
           "#b5de2b"
          ],
          [
           0.2222222222222222,
           "#6ece58"
          ],
          [
           0.3333333333333333,
           "#35b779"
          ],
          [
           0.4444444444444444,
           "#1f9e89"
          ],
          [
           0.5555555555555556,
           "#26828e"
          ],
          [
           0.6666666666666666,
           "#31688e"
          ],
          [
           0.7777777777777778,
           "#3e4989"
          ],
          [
           0.8888888888888888,
           "#482878"
          ],
          [
           1,
           "#440154"
          ]
         ]
        },
        "legend": {
         "tracegroupgap": 0
        },
        "margin": {
         "t": 60
        },
        "template": {
         "data": {
          "bar": [
           {
            "error_x": {
             "color": "#2a3f5f"
            },
            "error_y": {
             "color": "#2a3f5f"
            },
            "marker": {
             "line": {
              "color": "#E5ECF6",
              "width": 0.5
             },
             "pattern": {
              "fillmode": "overlay",
              "size": 10,
              "solidity": 0.2
             }
            },
            "type": "bar"
           }
          ],
          "barpolar": [
           {
            "marker": {
             "line": {
              "color": "#E5ECF6",
              "width": 0.5
             },
             "pattern": {
              "fillmode": "overlay",
              "size": 10,
              "solidity": 0.2
             }
            },
            "type": "barpolar"
           }
          ],
          "carpet": [
           {
            "aaxis": {
             "endlinecolor": "#2a3f5f",
             "gridcolor": "white",
             "linecolor": "white",
             "minorgridcolor": "white",
             "startlinecolor": "#2a3f5f"
            },
            "baxis": {
             "endlinecolor": "#2a3f5f",
             "gridcolor": "white",
             "linecolor": "white",
             "minorgridcolor": "white",
             "startlinecolor": "#2a3f5f"
            },
            "type": "carpet"
           }
          ],
          "choropleth": [
           {
            "colorbar": {
             "outlinewidth": 0,
             "ticks": ""
            },
            "type": "choropleth"
           }
          ],
          "contour": [
           {
            "colorbar": {
             "outlinewidth": 0,
             "ticks": ""
            },
            "colorscale": [
             [
              0,
              "#0d0887"
             ],
             [
              0.1111111111111111,
              "#46039f"
             ],
             [
              0.2222222222222222,
              "#7201a8"
             ],
             [
              0.3333333333333333,
              "#9c179e"
             ],
             [
              0.4444444444444444,
              "#bd3786"
             ],
             [
              0.5555555555555556,
              "#d8576b"
             ],
             [
              0.6666666666666666,
              "#ed7953"
             ],
             [
              0.7777777777777778,
              "#fb9f3a"
             ],
             [
              0.8888888888888888,
              "#fdca26"
             ],
             [
              1,
              "#f0f921"
             ]
            ],
            "type": "contour"
           }
          ],
          "contourcarpet": [
           {
            "colorbar": {
             "outlinewidth": 0,
             "ticks": ""
            },
            "type": "contourcarpet"
           }
          ],
          "heatmap": [
           {
            "colorbar": {
             "outlinewidth": 0,
             "ticks": ""
            },
            "colorscale": [
             [
              0,
              "#0d0887"
             ],
             [
              0.1111111111111111,
              "#46039f"
             ],
             [
              0.2222222222222222,
              "#7201a8"
             ],
             [
              0.3333333333333333,
              "#9c179e"
             ],
             [
              0.4444444444444444,
              "#bd3786"
             ],
             [
              0.5555555555555556,
              "#d8576b"
             ],
             [
              0.6666666666666666,
              "#ed7953"
             ],
             [
              0.7777777777777778,
              "#fb9f3a"
             ],
             [
              0.8888888888888888,
              "#fdca26"
             ],
             [
              1,
              "#f0f921"
             ]
            ],
            "type": "heatmap"
           }
          ],
          "heatmapgl": [
           {
            "colorbar": {
             "outlinewidth": 0,
             "ticks": ""
            },
            "colorscale": [
             [
              0,
              "#0d0887"
             ],
             [
              0.1111111111111111,
              "#46039f"
             ],
             [
              0.2222222222222222,
              "#7201a8"
             ],
             [
              0.3333333333333333,
              "#9c179e"
             ],
             [
              0.4444444444444444,
              "#bd3786"
             ],
             [
              0.5555555555555556,
              "#d8576b"
             ],
             [
              0.6666666666666666,
              "#ed7953"
             ],
             [
              0.7777777777777778,
              "#fb9f3a"
             ],
             [
              0.8888888888888888,
              "#fdca26"
             ],
             [
              1,
              "#f0f921"
             ]
            ],
            "type": "heatmapgl"
           }
          ],
          "histogram": [
           {
            "marker": {
             "pattern": {
              "fillmode": "overlay",
              "size": 10,
              "solidity": 0.2
             }
            },
            "type": "histogram"
           }
          ],
          "histogram2d": [
           {
            "colorbar": {
             "outlinewidth": 0,
             "ticks": ""
            },
            "colorscale": [
             [
              0,
              "#0d0887"
             ],
             [
              0.1111111111111111,
              "#46039f"
             ],
             [
              0.2222222222222222,
              "#7201a8"
             ],
             [
              0.3333333333333333,
              "#9c179e"
             ],
             [
              0.4444444444444444,
              "#bd3786"
             ],
             [
              0.5555555555555556,
              "#d8576b"
             ],
             [
              0.6666666666666666,
              "#ed7953"
             ],
             [
              0.7777777777777778,
              "#fb9f3a"
             ],
             [
              0.8888888888888888,
              "#fdca26"
             ],
             [
              1,
              "#f0f921"
             ]
            ],
            "type": "histogram2d"
           }
          ],
          "histogram2dcontour": [
           {
            "colorbar": {
             "outlinewidth": 0,
             "ticks": ""
            },
            "colorscale": [
             [
              0,
              "#0d0887"
             ],
             [
              0.1111111111111111,
              "#46039f"
             ],
             [
              0.2222222222222222,
              "#7201a8"
             ],
             [
              0.3333333333333333,
              "#9c179e"
             ],
             [
              0.4444444444444444,
              "#bd3786"
             ],
             [
              0.5555555555555556,
              "#d8576b"
             ],
             [
              0.6666666666666666,
              "#ed7953"
             ],
             [
              0.7777777777777778,
              "#fb9f3a"
             ],
             [
              0.8888888888888888,
              "#fdca26"
             ],
             [
              1,
              "#f0f921"
             ]
            ],
            "type": "histogram2dcontour"
           }
          ],
          "mesh3d": [
           {
            "colorbar": {
             "outlinewidth": 0,
             "ticks": ""
            },
            "type": "mesh3d"
           }
          ],
          "parcoords": [
           {
            "line": {
             "colorbar": {
              "outlinewidth": 0,
              "ticks": ""
             }
            },
            "type": "parcoords"
           }
          ],
          "pie": [
           {
            "automargin": true,
            "type": "pie"
           }
          ],
          "scatter": [
           {
            "fillpattern": {
             "fillmode": "overlay",
             "size": 10,
             "solidity": 0.2
            },
            "type": "scatter"
           }
          ],
          "scatter3d": [
           {
            "line": {
             "colorbar": {
              "outlinewidth": 0,
              "ticks": ""
             }
            },
            "marker": {
             "colorbar": {
              "outlinewidth": 0,
              "ticks": ""
             }
            },
            "type": "scatter3d"
           }
          ],
          "scattercarpet": [
           {
            "marker": {
             "colorbar": {
              "outlinewidth": 0,
              "ticks": ""
             }
            },
            "type": "scattercarpet"
           }
          ],
          "scattergeo": [
           {
            "marker": {
             "colorbar": {
              "outlinewidth": 0,
              "ticks": ""
             }
            },
            "type": "scattergeo"
           }
          ],
          "scattergl": [
           {
            "marker": {
             "colorbar": {
              "outlinewidth": 0,
              "ticks": ""
             }
            },
            "type": "scattergl"
           }
          ],
          "scattermapbox": [
           {
            "marker": {
             "colorbar": {
              "outlinewidth": 0,
              "ticks": ""
             }
            },
            "type": "scattermapbox"
           }
          ],
          "scatterpolar": [
           {
            "marker": {
             "colorbar": {
              "outlinewidth": 0,
              "ticks": ""
             }
            },
            "type": "scatterpolar"
           }
          ],
          "scatterpolargl": [
           {
            "marker": {
             "colorbar": {
              "outlinewidth": 0,
              "ticks": ""
             }
            },
            "type": "scatterpolargl"
           }
          ],
          "scatterternary": [
           {
            "marker": {
             "colorbar": {
              "outlinewidth": 0,
              "ticks": ""
             }
            },
            "type": "scatterternary"
           }
          ],
          "surface": [
           {
            "colorbar": {
             "outlinewidth": 0,
             "ticks": ""
            },
            "colorscale": [
             [
              0,
              "#0d0887"
             ],
             [
              0.1111111111111111,
              "#46039f"
             ],
             [
              0.2222222222222222,
              "#7201a8"
             ],
             [
              0.3333333333333333,
              "#9c179e"
             ],
             [
              0.4444444444444444,
              "#bd3786"
             ],
             [
              0.5555555555555556,
              "#d8576b"
             ],
             [
              0.6666666666666666,
              "#ed7953"
             ],
             [
              0.7777777777777778,
              "#fb9f3a"
             ],
             [
              0.8888888888888888,
              "#fdca26"
             ],
             [
              1,
              "#f0f921"
             ]
            ],
            "type": "surface"
           }
          ],
          "table": [
           {
            "cells": {
             "fill": {
              "color": "#EBF0F8"
             },
             "line": {
              "color": "white"
             }
            },
            "header": {
             "fill": {
              "color": "#C8D4E3"
             },
             "line": {
              "color": "white"
             }
            },
            "type": "table"
           }
          ]
         },
         "layout": {
          "annotationdefaults": {
           "arrowcolor": "#2a3f5f",
           "arrowhead": 0,
           "arrowwidth": 1
          },
          "autotypenumbers": "strict",
          "coloraxis": {
           "colorbar": {
            "outlinewidth": 0,
            "ticks": ""
           }
          },
          "colorscale": {
           "diverging": [
            [
             0,
             "#8e0152"
            ],
            [
             0.1,
             "#c51b7d"
            ],
            [
             0.2,
             "#de77ae"
            ],
            [
             0.3,
             "#f1b6da"
            ],
            [
             0.4,
             "#fde0ef"
            ],
            [
             0.5,
             "#f7f7f7"
            ],
            [
             0.6,
             "#e6f5d0"
            ],
            [
             0.7,
             "#b8e186"
            ],
            [
             0.8,
             "#7fbc41"
            ],
            [
             0.9,
             "#4d9221"
            ],
            [
             1,
             "#276419"
            ]
           ],
           "sequential": [
            [
             0,
             "#0d0887"
            ],
            [
             0.1111111111111111,
             "#46039f"
            ],
            [
             0.2222222222222222,
             "#7201a8"
            ],
            [
             0.3333333333333333,
             "#9c179e"
            ],
            [
             0.4444444444444444,
             "#bd3786"
            ],
            [
             0.5555555555555556,
             "#d8576b"
            ],
            [
             0.6666666666666666,
             "#ed7953"
            ],
            [
             0.7777777777777778,
             "#fb9f3a"
            ],
            [
             0.8888888888888888,
             "#fdca26"
            ],
            [
             1,
             "#f0f921"
            ]
           ],
           "sequentialminus": [
            [
             0,
             "#0d0887"
            ],
            [
             0.1111111111111111,
             "#46039f"
            ],
            [
             0.2222222222222222,
             "#7201a8"
            ],
            [
             0.3333333333333333,
             "#9c179e"
            ],
            [
             0.4444444444444444,
             "#bd3786"
            ],
            [
             0.5555555555555556,
             "#d8576b"
            ],
            [
             0.6666666666666666,
             "#ed7953"
            ],
            [
             0.7777777777777778,
             "#fb9f3a"
            ],
            [
             0.8888888888888888,
             "#fdca26"
            ],
            [
             1,
             "#f0f921"
            ]
           ]
          },
          "colorway": [
           "#636efa",
           "#EF553B",
           "#00cc96",
           "#ab63fa",
           "#FFA15A",
           "#19d3f3",
           "#FF6692",
           "#B6E880",
           "#FF97FF",
           "#FECB52"
          ],
          "font": {
           "color": "#2a3f5f"
          },
          "geo": {
           "bgcolor": "white",
           "lakecolor": "white",
           "landcolor": "#E5ECF6",
           "showlakes": true,
           "showland": true,
           "subunitcolor": "white"
          },
          "hoverlabel": {
           "align": "left"
          },
          "hovermode": "closest",
          "mapbox": {
           "style": "light"
          },
          "paper_bgcolor": "white",
          "plot_bgcolor": "#E5ECF6",
          "polar": {
           "angularaxis": {
            "gridcolor": "white",
            "linecolor": "white",
            "ticks": ""
           },
           "bgcolor": "#E5ECF6",
           "radialaxis": {
            "gridcolor": "white",
            "linecolor": "white",
            "ticks": ""
           }
          },
          "scene": {
           "xaxis": {
            "backgroundcolor": "#E5ECF6",
            "gridcolor": "white",
            "gridwidth": 2,
            "linecolor": "white",
            "showbackground": true,
            "ticks": "",
            "zerolinecolor": "white"
           },
           "yaxis": {
            "backgroundcolor": "#E5ECF6",
            "gridcolor": "white",
            "gridwidth": 2,
            "linecolor": "white",
            "showbackground": true,
            "ticks": "",
            "zerolinecolor": "white"
           },
           "zaxis": {
            "backgroundcolor": "#E5ECF6",
            "gridcolor": "white",
            "gridwidth": 2,
            "linecolor": "white",
            "showbackground": true,
            "ticks": "",
            "zerolinecolor": "white"
           }
          },
          "shapedefaults": {
           "line": {
            "color": "#2a3f5f"
           }
          },
          "ternary": {
           "aaxis": {
            "gridcolor": "white",
            "linecolor": "white",
            "ticks": ""
           },
           "baxis": {
            "gridcolor": "white",
            "linecolor": "white",
            "ticks": ""
           },
           "bgcolor": "#E5ECF6",
           "caxis": {
            "gridcolor": "white",
            "linecolor": "white",
            "ticks": ""
           }
          },
          "title": {
           "x": 0.05
          },
          "xaxis": {
           "automargin": true,
           "gridcolor": "white",
           "linecolor": "white",
           "ticks": "",
           "title": {
            "standoff": 15
           },
           "zerolinecolor": "white",
           "zerolinewidth": 2
          },
          "yaxis": {
           "automargin": true,
           "gridcolor": "white",
           "linecolor": "white",
           "ticks": "",
           "title": {
            "standoff": 15
           },
           "zerolinecolor": "white",
           "zerolinewidth": 2
          }
         }
        },
        "title": {
         "text": "Parallel coordinates plot of text classifier pipeline",
         "x": 0.5,
         "xanchor": "center",
         "y": 0.99,
         "yanchor": "top"
        }
       }
      },
      "text/html": [
       "<div>                            <div id=\"155fe480-dd6b-4318-a576-c73a6d847fcb\" class=\"plotly-graph-div\" style=\"height:525px; width:100%;\"></div>            <script type=\"text/javascript\">                require([\"plotly\"], function(Plotly) {                    window.PLOTLYENV=window.PLOTLYENV || {};                                    if (document.getElementById(\"155fe480-dd6b-4318-a576-c73a6d847fcb\")) {                    Plotly.newPlot(                        \"155fe480-dd6b-4318-a576-c73a6d847fcb\",                        [{\"dimensions\":[{\"label\":\"max_df\",\"values\":[0.6,0.2,0.2,0.6,0.4,1.0,0.6,0.2,0.4,0.2,0.4,1.0,1.0,0.4,0.4,0.4,0.2,0.8,0.8,1.0,0.6,0.4,0.4,0.6,0.6,0.6,0.8,0.4,0.4,0.8,0.4,0.8,0.8,0.2,0.2,0.8,0.2,0.6,1.0,0.6]},{\"label\":\"min_df\",\"values\":[10,5,5,10,5,10,5,1,1,5,10,5,1,5,5,10,10,10,5,5,10,10,1,10,5,5,3,10,3,10,3,3,1,3,1,5,1,10,1,10]},{\"label\":\"ngram_range\",\"values\":[2,2,2,1,2,1,2,1,2,2,2,2,1,1,2,1,1,1,2,2,2,2,1,2,2,1,1,2,1,2,1,2,2,1,1,1,2,2,2,1]},{\"label\":\"C\",\"values\":[100.0,10000.0,0.1,0.001,100.0,1.0,1000.0,0.0001,1.0,0.001,0.01,100.0,1.0,10.0,10000.0,0.0001,1.0,1000.0,100.0,1000.0,0.001,100.0,0.0001,1000.0,100.0,1000.0,1000.0,0.0001,100.0,0.0001,0.01,100.0,10000.0,0.01,1.0,0.1,0.0001,1000.0,10.0,1000.0]},{\"label\":\"CV score (accuracy)\",\"values\":[null,null,null,0.9222000000000001,null,null,0.9583333333333334,0.8352666666666668,0.9675333333333335,null,null,null,null,0.9600666666666667,0.9544,null,0.9493333333333334,null,0.9625333333333334,0.9593333333333334,null,null,null,0.9583333333333334,null,0.9524666666666667,null,0.8798666666666668,null,null,null,0.9634666666666666,null,0.9293333333333333,0.9489333333333333,null,null,null,0.9668666666666667,0.9523999999999999]},{\"label\":\"CV Score time (s)\",\"values\":[0.0,0.0,0.0,0.10739164352416992,0.0,0.0,0.2686019420623779,0.10822901725769044,0.2848033428192139,0.0,0.0,0.0,0.0,0.11579604148864746,0.27900233268737795,0.0,0.11679835319519043,0.0,0.2741988182067871,0.26879568099975587,0.0,0.0,0.0,0.2648014545440674,0.0,0.11759872436523437,0.0,0.2507983684539795,0.0,0.0,0.0,0.2722037315368652,0.0,0.11619582176208496,0.11920547485351562,0.0,0.0,0.0,0.30500335693359376,0.11600627899169921]}],\"domain\":{\"x\":[0.0,1.0],\"y\":[0.0,1.0]},\"line\":{\"color\":[null,null,null,0.9222000000000001,null,null,0.9583333333333334,0.8352666666666668,0.9675333333333335,null,null,null,null,0.9600666666666667,0.9544,null,0.9493333333333334,null,0.9625333333333334,0.9593333333333334,null,null,null,0.9583333333333334,null,0.9524666666666667,null,0.8798666666666668,null,null,null,0.9634666666666666,null,0.9293333333333333,0.9489333333333333,null,null,null,0.9668666666666667,0.9523999999999999],\"coloraxis\":\"coloraxis\"},\"name\":\"\",\"type\":\"parcoords\"}],                        {\"template\":{\"data\":{\"histogram2dcontour\":[{\"type\":\"histogram2dcontour\",\"colorbar\":{\"outlinewidth\":0,\"ticks\":\"\"},\"colorscale\":[[0.0,\"#0d0887\"],[0.1111111111111111,\"#46039f\"],[0.2222222222222222,\"#7201a8\"],[0.3333333333333333,\"#9c179e\"],[0.4444444444444444,\"#bd3786\"],[0.5555555555555556,\"#d8576b\"],[0.6666666666666666,\"#ed7953\"],[0.7777777777777778,\"#fb9f3a\"],[0.8888888888888888,\"#fdca26\"],[1.0,\"#f0f921\"]]}],\"choropleth\":[{\"type\":\"choropleth\",\"colorbar\":{\"outlinewidth\":0,\"ticks\":\"\"}}],\"histogram2d\":[{\"type\":\"histogram2d\",\"colorbar\":{\"outlinewidth\":0,\"ticks\":\"\"},\"colorscale\":[[0.0,\"#0d0887\"],[0.1111111111111111,\"#46039f\"],[0.2222222222222222,\"#7201a8\"],[0.3333333333333333,\"#9c179e\"],[0.4444444444444444,\"#bd3786\"],[0.5555555555555556,\"#d8576b\"],[0.6666666666666666,\"#ed7953\"],[0.7777777777777778,\"#fb9f3a\"],[0.8888888888888888,\"#fdca26\"],[1.0,\"#f0f921\"]]}],\"heatmap\":[{\"type\":\"heatmap\",\"colorbar\":{\"outlinewidth\":0,\"ticks\":\"\"},\"colorscale\":[[0.0,\"#0d0887\"],[0.1111111111111111,\"#46039f\"],[0.2222222222222222,\"#7201a8\"],[0.3333333333333333,\"#9c179e\"],[0.4444444444444444,\"#bd3786\"],[0.5555555555555556,\"#d8576b\"],[0.6666666666666666,\"#ed7953\"],[0.7777777777777778,\"#fb9f3a\"],[0.8888888888888888,\"#fdca26\"],[1.0,\"#f0f921\"]]}],\"heatmapgl\":[{\"type\":\"heatmapgl\",\"colorbar\":{\"outlinewidth\":0,\"ticks\":\"\"},\"colorscale\":[[0.0,\"#0d0887\"],[0.1111111111111111,\"#46039f\"],[0.2222222222222222,\"#7201a8\"],[0.3333333333333333,\"#9c179e\"],[0.4444444444444444,\"#bd3786\"],[0.5555555555555556,\"#d8576b\"],[0.6666666666666666,\"#ed7953\"],[0.7777777777777778,\"#fb9f3a\"],[0.8888888888888888,\"#fdca26\"],[1.0,\"#f0f921\"]]}],\"contourcarpet\":[{\"type\":\"contourcarpet\",\"colorbar\":{\"outlinewidth\":0,\"ticks\":\"\"}}],\"contour\":[{\"type\":\"contour\",\"colorbar\":{\"outlinewidth\":0,\"ticks\":\"\"},\"colorscale\":[[0.0,\"#0d0887\"],[0.1111111111111111,\"#46039f\"],[0.2222222222222222,\"#7201a8\"],[0.3333333333333333,\"#9c179e\"],[0.4444444444444444,\"#bd3786\"],[0.5555555555555556,\"#d8576b\"],[0.6666666666666666,\"#ed7953\"],[0.7777777777777778,\"#fb9f3a\"],[0.8888888888888888,\"#fdca26\"],[1.0,\"#f0f921\"]]}],\"surface\":[{\"type\":\"surface\",\"colorbar\":{\"outlinewidth\":0,\"ticks\":\"\"},\"colorscale\":[[0.0,\"#0d0887\"],[0.1111111111111111,\"#46039f\"],[0.2222222222222222,\"#7201a8\"],[0.3333333333333333,\"#9c179e\"],[0.4444444444444444,\"#bd3786\"],[0.5555555555555556,\"#d8576b\"],[0.6666666666666666,\"#ed7953\"],[0.7777777777777778,\"#fb9f3a\"],[0.8888888888888888,\"#fdca26\"],[1.0,\"#f0f921\"]]}],\"mesh3d\":[{\"type\":\"mesh3d\",\"colorbar\":{\"outlinewidth\":0,\"ticks\":\"\"}}],\"scatter\":[{\"fillpattern\":{\"fillmode\":\"overlay\",\"size\":10,\"solidity\":0.2},\"type\":\"scatter\"}],\"parcoords\":[{\"type\":\"parcoords\",\"line\":{\"colorbar\":{\"outlinewidth\":0,\"ticks\":\"\"}}}],\"scatterpolargl\":[{\"type\":\"scatterpolargl\",\"marker\":{\"colorbar\":{\"outlinewidth\":0,\"ticks\":\"\"}}}],\"bar\":[{\"error_x\":{\"color\":\"#2a3f5f\"},\"error_y\":{\"color\":\"#2a3f5f\"},\"marker\":{\"line\":{\"color\":\"#E5ECF6\",\"width\":0.5},\"pattern\":{\"fillmode\":\"overlay\",\"size\":10,\"solidity\":0.2}},\"type\":\"bar\"}],\"scattergeo\":[{\"type\":\"scattergeo\",\"marker\":{\"colorbar\":{\"outlinewidth\":0,\"ticks\":\"\"}}}],\"scatterpolar\":[{\"type\":\"scatterpolar\",\"marker\":{\"colorbar\":{\"outlinewidth\":0,\"ticks\":\"\"}}}],\"histogram\":[{\"marker\":{\"pattern\":{\"fillmode\":\"overlay\",\"size\":10,\"solidity\":0.2}},\"type\":\"histogram\"}],\"scattergl\":[{\"type\":\"scattergl\",\"marker\":{\"colorbar\":{\"outlinewidth\":0,\"ticks\":\"\"}}}],\"scatter3d\":[{\"type\":\"scatter3d\",\"line\":{\"colorbar\":{\"outlinewidth\":0,\"ticks\":\"\"}},\"marker\":{\"colorbar\":{\"outlinewidth\":0,\"ticks\":\"\"}}}],\"scattermapbox\":[{\"type\":\"scattermapbox\",\"marker\":{\"colorbar\":{\"outlinewidth\":0,\"ticks\":\"\"}}}],\"scatterternary\":[{\"type\":\"scatterternary\",\"marker\":{\"colorbar\":{\"outlinewidth\":0,\"ticks\":\"\"}}}],\"scattercarpet\":[{\"type\":\"scattercarpet\",\"marker\":{\"colorbar\":{\"outlinewidth\":0,\"ticks\":\"\"}}}],\"carpet\":[{\"aaxis\":{\"endlinecolor\":\"#2a3f5f\",\"gridcolor\":\"white\",\"linecolor\":\"white\",\"minorgridcolor\":\"white\",\"startlinecolor\":\"#2a3f5f\"},\"baxis\":{\"endlinecolor\":\"#2a3f5f\",\"gridcolor\":\"white\",\"linecolor\":\"white\",\"minorgridcolor\":\"white\",\"startlinecolor\":\"#2a3f5f\"},\"type\":\"carpet\"}],\"table\":[{\"cells\":{\"fill\":{\"color\":\"#EBF0F8\"},\"line\":{\"color\":\"white\"}},\"header\":{\"fill\":{\"color\":\"#C8D4E3\"},\"line\":{\"color\":\"white\"}},\"type\":\"table\"}],\"barpolar\":[{\"marker\":{\"line\":{\"color\":\"#E5ECF6\",\"width\":0.5},\"pattern\":{\"fillmode\":\"overlay\",\"size\":10,\"solidity\":0.2}},\"type\":\"barpolar\"}],\"pie\":[{\"automargin\":true,\"type\":\"pie\"}]},\"layout\":{\"autotypenumbers\":\"strict\",\"colorway\":[\"#636efa\",\"#EF553B\",\"#00cc96\",\"#ab63fa\",\"#FFA15A\",\"#19d3f3\",\"#FF6692\",\"#B6E880\",\"#FF97FF\",\"#FECB52\"],\"font\":{\"color\":\"#2a3f5f\"},\"hovermode\":\"closest\",\"hoverlabel\":{\"align\":\"left\"},\"paper_bgcolor\":\"white\",\"plot_bgcolor\":\"#E5ECF6\",\"polar\":{\"bgcolor\":\"#E5ECF6\",\"angularaxis\":{\"gridcolor\":\"white\",\"linecolor\":\"white\",\"ticks\":\"\"},\"radialaxis\":{\"gridcolor\":\"white\",\"linecolor\":\"white\",\"ticks\":\"\"}},\"ternary\":{\"bgcolor\":\"#E5ECF6\",\"aaxis\":{\"gridcolor\":\"white\",\"linecolor\":\"white\",\"ticks\":\"\"},\"baxis\":{\"gridcolor\":\"white\",\"linecolor\":\"white\",\"ticks\":\"\"},\"caxis\":{\"gridcolor\":\"white\",\"linecolor\":\"white\",\"ticks\":\"\"}},\"coloraxis\":{\"colorbar\":{\"outlinewidth\":0,\"ticks\":\"\"}},\"colorscale\":{\"sequential\":[[0.0,\"#0d0887\"],[0.1111111111111111,\"#46039f\"],[0.2222222222222222,\"#7201a8\"],[0.3333333333333333,\"#9c179e\"],[0.4444444444444444,\"#bd3786\"],[0.5555555555555556,\"#d8576b\"],[0.6666666666666666,\"#ed7953\"],[0.7777777777777778,\"#fb9f3a\"],[0.8888888888888888,\"#fdca26\"],[1.0,\"#f0f921\"]],\"sequentialminus\":[[0.0,\"#0d0887\"],[0.1111111111111111,\"#46039f\"],[0.2222222222222222,\"#7201a8\"],[0.3333333333333333,\"#9c179e\"],[0.4444444444444444,\"#bd3786\"],[0.5555555555555556,\"#d8576b\"],[0.6666666666666666,\"#ed7953\"],[0.7777777777777778,\"#fb9f3a\"],[0.8888888888888888,\"#fdca26\"],[1.0,\"#f0f921\"]],\"diverging\":[[0,\"#8e0152\"],[0.1,\"#c51b7d\"],[0.2,\"#de77ae\"],[0.3,\"#f1b6da\"],[0.4,\"#fde0ef\"],[0.5,\"#f7f7f7\"],[0.6,\"#e6f5d0\"],[0.7,\"#b8e186\"],[0.8,\"#7fbc41\"],[0.9,\"#4d9221\"],[1,\"#276419\"]]},\"xaxis\":{\"gridcolor\":\"white\",\"linecolor\":\"white\",\"ticks\":\"\",\"title\":{\"standoff\":15},\"zerolinecolor\":\"white\",\"automargin\":true,\"zerolinewidth\":2},\"yaxis\":{\"gridcolor\":\"white\",\"linecolor\":\"white\",\"ticks\":\"\",\"title\":{\"standoff\":15},\"zerolinecolor\":\"white\",\"automargin\":true,\"zerolinewidth\":2},\"scene\":{\"xaxis\":{\"backgroundcolor\":\"#E5ECF6\",\"gridcolor\":\"white\",\"linecolor\":\"white\",\"showbackground\":true,\"ticks\":\"\",\"zerolinecolor\":\"white\",\"gridwidth\":2},\"yaxis\":{\"backgroundcolor\":\"#E5ECF6\",\"gridcolor\":\"white\",\"linecolor\":\"white\",\"showbackground\":true,\"ticks\":\"\",\"zerolinecolor\":\"white\",\"gridwidth\":2},\"zaxis\":{\"backgroundcolor\":\"#E5ECF6\",\"gridcolor\":\"white\",\"linecolor\":\"white\",\"showbackground\":true,\"ticks\":\"\",\"zerolinecolor\":\"white\",\"gridwidth\":2}},\"shapedefaults\":{\"line\":{\"color\":\"#2a3f5f\"}},\"annotationdefaults\":{\"arrowcolor\":\"#2a3f5f\",\"arrowhead\":0,\"arrowwidth\":1},\"geo\":{\"bgcolor\":\"white\",\"landcolor\":\"#E5ECF6\",\"subunitcolor\":\"white\",\"showland\":true,\"showlakes\":true,\"lakecolor\":\"white\"},\"title\":{\"x\":0.05},\"mapbox\":{\"style\":\"light\"}}},\"coloraxis\":{\"colorbar\":{\"title\":{\"text\":\"CV score (accuracy)\"}},\"colorscale\":[[0.0,\"#fde725\"],[0.1111111111111111,\"#b5de2b\"],[0.2222222222222222,\"#6ece58\"],[0.3333333333333333,\"#35b779\"],[0.4444444444444444,\"#1f9e89\"],[0.5555555555555556,\"#26828e\"],[0.6666666666666666,\"#31688e\"],[0.7777777777777778,\"#3e4989\"],[0.8888888888888888,\"#482878\"],[1.0,\"#440154\"]]},\"legend\":{\"tracegroupgap\":0},\"margin\":{\"t\":60},\"title\":{\"text\":\"Parallel coordinates plot of text classifier pipeline\",\"y\":0.99,\"x\":0.5,\"xanchor\":\"center\",\"yanchor\":\"top\"}},                        {\"responsive\": true}                    ).then(function(){\n",
       "                            \n",
       "var gd = document.getElementById('155fe480-dd6b-4318-a576-c73a6d847fcb');\n",
       "var x = new MutationObserver(function (mutations, observer) {{\n",
       "        var display = window.getComputedStyle(gd).display;\n",
       "        if (!display || display === 'none') {{\n",
       "            console.log([gd, 'removed!']);\n",
       "            Plotly.purge(gd);\n",
       "            observer.disconnect();\n",
       "        }}\n",
       "}});\n",
       "\n",
       "// Listen for the removal of the full notebook cells\n",
       "var notebookContainer = gd.closest('#notebook-container');\n",
       "if (notebookContainer) {{\n",
       "    x.observe(notebookContainer, {childList: true});\n",
       "}}\n",
       "\n",
       "// Listen for the clearing of the current output cell\n",
       "var outputEl = gd.closest('.output');\n",
       "if (outputEl) {{\n",
       "    x.observe(outputEl, {childList: true});\n",
       "}}\n",
       "\n",
       "                        })                };                });            </script>        </div>"
      ]
     },
     "metadata": {},
     "output_type": "display_data"
    }
   ],
   "source": [
    "import math\n",
    "\n",
    "column_results = param_names + [\"mean_test_score\", \"mean_score_time\"]\n",
    "\n",
    "transform_funcs = dict.fromkeys(column_results, lambda x: x)\n",
    "\n",
    "transform_funcs[\"ngram_range\"] = lambda x: x[1]\n",
    "\n",
    "fig = px.parallel_coordinates(\n",
    "    cv_results[column_results].apply(transform_funcs),\n",
    "    color=\"mean_test_score\",\n",
    "    color_continuous_scale=px.colors.sequential.Viridis_r,\n",
    "    labels=labels,\n",
    ")\n",
    "fig.update_layout(\n",
    "    title={\n",
    "        \"text\": \"Parallel coordinates plot of text classifier pipeline\",\n",
    "        \"y\": 0.99,\n",
    "        \"x\": 0.5,\n",
    "        \"xanchor\": \"center\",\n",
    "        \"yanchor\": \"top\",\n",
    "    }\n",
    ")\n",
    "fig"
   ]
  },
  {
   "cell_type": "markdown",
   "id": "11cf7617",
   "metadata": {},
   "source": [
    "### Visualize results of at least two text classifiers and select the most robust one\n",
    "Logistic Regression Model is more robust."
   ]
  },
  {
   "cell_type": "code",
   "execution_count": 105,
   "id": "ebd84ca3",
   "metadata": {},
   "outputs": [
    {
     "data": {
      "image/png": "[encoded data removed]",
      "text/plain": [
       "<Figure size 720x504 with 1 Axes>"
      ]
     },
     "metadata": {
      "needs_background": "light"
     },
     "output_type": "display_data"
    }
   ],
   "source": [
    "import matplotlib.pyplot as plt\n",
    "\n",
    "# Classifier names\n",
    "classifiers = ['Naive Bayes', 'SVM', 'Logistic Regression']\n",
    "\n",
    "# Corresponding accuracy scores\n",
    "accuracies = [bayes_accuracy, svm_accuracy, logic_accuracy]\n",
    "\n",
    "# Creating the enhanced bar plot\n",
    "plt.figure(figsize=(10, 7))\n",
    "bars = plt.bar(classifiers, accuracies, color=['skyblue', 'lightgreen', 'salmon'])\n",
    "\n",
    "# Adding data labels above each bar\n",
    "for bar in bars:\n",
    "    yval = bar.get_height()\n",
    "    plt.text(bar.get_x() + bar.get_width()/2, yval + 0.005, round(yval, 3), ha='center', va='bottom')\n",
    "\n",
    "plt.xlabel('Classifier')\n",
    "plt.ylabel('Accuracy Score')\n",
    "plt.title('Comparison of Text Classifier Accuracies')\n",
    "plt.ylim(0, 1.05)  # Extend y-axis limit slightly above 1 for better visibility of data labels\n",
    "plt.yticks([i/10 for i in range(11)])  # Setting y-axis ticks to improve readability\n",
    "plt.grid(axis='y', linestyle='--', alpha=0.7)  # Adding horizontal gridlines for easier comparison\n",
    "plt.show()\n"
   ]
  }
 ],
 "metadata": {
  "kernelspec": {
   "display_name": "Python 3 (ipykernel)",
   "language": "python",
   "name": "python3"
  },
  "language_info": {
   "codemirror_mode": {
    "name": "ipython",
    "version": 3
   },
   "file_extension": ".py",
   "mimetype": "text/x-python",
   "name": "python",
   "nbconvert_exporter": "python",
   "pygments_lexer": "ipython3",
   "version": "3.9.12"
  }
 },
 "nbformat": 4,
 "nbformat_minor": 5
}
